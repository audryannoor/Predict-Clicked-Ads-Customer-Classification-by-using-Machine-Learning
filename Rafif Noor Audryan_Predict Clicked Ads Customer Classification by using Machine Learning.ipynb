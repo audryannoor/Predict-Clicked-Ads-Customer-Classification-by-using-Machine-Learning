{
 "cells": [
  {
   "cell_type": "markdown",
   "id": "f663319b-6283-4500-b697-8946e0602115",
   "metadata": {},
   "source": [
    "<b>Predict Clicked Ads Customer by using Machine Learning<b>"
   ]
  },
  {
   "cell_type": "markdown",
   "id": "cae23f6d-bf51-455b-89b6-35a1c0324ce9",
   "metadata": {},
   "source": [
    "## Import Library"
   ]
  },
  {
   "cell_type": "code",
   "execution_count": 1,
   "id": "f88abb8e-4a41-4690-9dd2-f0c159157ff8",
   "metadata": {},
   "outputs": [],
   "source": [
    "import numpy as np\n",
    "import pandas as pd\n",
    "import matplotlib.pyplot as plt\n",
    "import seaborn as sns\n",
    "import warnings\n",
    "warnings.filterwarnings('ignore')\n",
    "pd.set_option('display.max_columns', None)\n",
    "pd.set_option('display.max_rows', 100)"
   ]
  },
  {
   "cell_type": "markdown",
   "id": "bcb1993f-84f0-44e0-9b28-f6c1f0646074",
   "metadata": {},
   "source": [
    "## Modeling Library"
   ]
  },
  {
   "cell_type": "code",
   "execution_count": 2,
   "id": "f3a83c61-b55a-4c25-97e5-7a329ced68cd",
   "metadata": {},
   "outputs": [],
   "source": [
    "from sklearn.model_selection import train_test_split, cross_val_score, GridSearchCV\n",
    "from sklearn.preprocessing import StandardScaler\n",
    "from sklearn.linear_model import LogisticRegression\n",
    "from sklearn.tree import DecisionTreeClassifier\n",
    "from sklearn.ensemble import RandomForestClassifier, AdaBoostClassifier, GradientBoostingClassifier\n",
    "from sklearn.neighbors import KNeighborsClassifier\n",
    "import xgboost as xgb\n",
    "from sklearn.metrics import plot_confusion_matrix, confusion_matrix, classification_report\n",
    "from sklearn.metrics import confusion_matrix,ConfusionMatrixDisplay\n",
    "from sklearn.metrics import precision_score, recall_score, f1_score, roc_auc_score\n",
    "from sklearn.metrics import confusion_matrix, classification_report, roc_curve\n",
    "from sklearn.inspection import permutation_importance"
   ]
  },
  {
   "cell_type": "markdown",
   "id": "33264c11-768a-4893-8bfd-3b6f40032dbd",
   "metadata": {},
   "source": [
    "## Import Data"
   ]
  },
  {
   "cell_type": "code",
   "execution_count": 3,
   "id": "1d923f2b-ca74-41b1-a719-5bccc99045a0",
   "metadata": {},
   "outputs": [
    {
     "data": {
      "text/html": [
       "<div>\n",
       "<style scoped>\n",
       "    .dataframe tbody tr th:only-of-type {\n",
       "        vertical-align: middle;\n",
       "    }\n",
       "\n",
       "    .dataframe tbody tr th {\n",
       "        vertical-align: top;\n",
       "    }\n",
       "\n",
       "    .dataframe thead th {\n",
       "        text-align: right;\n",
       "    }\n",
       "</style>\n",
       "<table border=\"1\" class=\"dataframe\">\n",
       "  <thead>\n",
       "    <tr style=\"text-align: right;\">\n",
       "      <th></th>\n",
       "      <th>Unnamed: 0</th>\n",
       "      <th>Daily Time Spent on Site</th>\n",
       "      <th>Age</th>\n",
       "      <th>Area Income</th>\n",
       "      <th>Daily Internet Usage</th>\n",
       "      <th>Male</th>\n",
       "      <th>Timestamp</th>\n",
       "      <th>Clicked on Ad</th>\n",
       "      <th>city</th>\n",
       "      <th>province</th>\n",
       "      <th>category</th>\n",
       "    </tr>\n",
       "  </thead>\n",
       "  <tbody>\n",
       "    <tr>\n",
       "      <th>0</th>\n",
       "      <td>0</td>\n",
       "      <td>68.95</td>\n",
       "      <td>35</td>\n",
       "      <td>432837300.0</td>\n",
       "      <td>256.09</td>\n",
       "      <td>Perempuan</td>\n",
       "      <td>3/27/2016 0:53</td>\n",
       "      <td>No</td>\n",
       "      <td>Jakarta Timur</td>\n",
       "      <td>Daerah Khusus Ibukota Jakarta</td>\n",
       "      <td>Furniture</td>\n",
       "    </tr>\n",
       "    <tr>\n",
       "      <th>1</th>\n",
       "      <td>1</td>\n",
       "      <td>80.23</td>\n",
       "      <td>31</td>\n",
       "      <td>479092950.0</td>\n",
       "      <td>193.77</td>\n",
       "      <td>Laki-Laki</td>\n",
       "      <td>4/4/2016 1:39</td>\n",
       "      <td>No</td>\n",
       "      <td>Denpasar</td>\n",
       "      <td>Bali</td>\n",
       "      <td>Food</td>\n",
       "    </tr>\n",
       "    <tr>\n",
       "      <th>2</th>\n",
       "      <td>2</td>\n",
       "      <td>69.47</td>\n",
       "      <td>26</td>\n",
       "      <td>418501580.0</td>\n",
       "      <td>236.50</td>\n",
       "      <td>Perempuan</td>\n",
       "      <td>3/13/2016 20:35</td>\n",
       "      <td>No</td>\n",
       "      <td>Surabaya</td>\n",
       "      <td>Jawa Timur</td>\n",
       "      <td>Electronic</td>\n",
       "    </tr>\n",
       "    <tr>\n",
       "      <th>3</th>\n",
       "      <td>3</td>\n",
       "      <td>74.15</td>\n",
       "      <td>29</td>\n",
       "      <td>383643260.0</td>\n",
       "      <td>245.89</td>\n",
       "      <td>Laki-Laki</td>\n",
       "      <td>1/10/2016 2:31</td>\n",
       "      <td>No</td>\n",
       "      <td>Batam</td>\n",
       "      <td>Kepulauan Riau</td>\n",
       "      <td>House</td>\n",
       "    </tr>\n",
       "    <tr>\n",
       "      <th>4</th>\n",
       "      <td>4</td>\n",
       "      <td>68.37</td>\n",
       "      <td>35</td>\n",
       "      <td>517229930.0</td>\n",
       "      <td>225.58</td>\n",
       "      <td>Perempuan</td>\n",
       "      <td>6/3/2016 3:36</td>\n",
       "      <td>No</td>\n",
       "      <td>Medan</td>\n",
       "      <td>Sumatra Utara</td>\n",
       "      <td>Finance</td>\n",
       "    </tr>\n",
       "  </tbody>\n",
       "</table>\n",
       "</div>"
      ],
      "text/plain": [
       "   Unnamed: 0  Daily Time Spent on Site  Age  Area Income  \\\n",
       "0           0                     68.95   35  432837300.0   \n",
       "1           1                     80.23   31  479092950.0   \n",
       "2           2                     69.47   26  418501580.0   \n",
       "3           3                     74.15   29  383643260.0   \n",
       "4           4                     68.37   35  517229930.0   \n",
       "\n",
       "   Daily Internet Usage       Male        Timestamp Clicked on Ad  \\\n",
       "0                256.09  Perempuan   3/27/2016 0:53            No   \n",
       "1                193.77  Laki-Laki    4/4/2016 1:39            No   \n",
       "2                236.50  Perempuan  3/13/2016 20:35            No   \n",
       "3                245.89  Laki-Laki   1/10/2016 2:31            No   \n",
       "4                225.58  Perempuan    6/3/2016 3:36            No   \n",
       "\n",
       "            city                       province    category  \n",
       "0  Jakarta Timur  Daerah Khusus Ibukota Jakarta   Furniture  \n",
       "1       Denpasar                           Bali        Food  \n",
       "2       Surabaya                     Jawa Timur  Electronic  \n",
       "3          Batam                 Kepulauan Riau       House  \n",
       "4          Medan                  Sumatra Utara     Finance  "
      ]
     },
     "execution_count": 3,
     "metadata": {},
     "output_type": "execute_result"
    }
   ],
   "source": [
    "df = pd.read_csv('Clicked Ads Dataset.csv')\n",
    "df.head()"
   ]
  },
  {
   "cell_type": "code",
   "execution_count": 4,
   "id": "2daf930f-a800-49ad-bc01-4764e4063eeb",
   "metadata": {},
   "outputs": [
    {
     "data": {
      "text/html": [
       "<div>\n",
       "<style scoped>\n",
       "    .dataframe tbody tr th:only-of-type {\n",
       "        vertical-align: middle;\n",
       "    }\n",
       "\n",
       "    .dataframe tbody tr th {\n",
       "        vertical-align: top;\n",
       "    }\n",
       "\n",
       "    .dataframe thead th {\n",
       "        text-align: right;\n",
       "    }\n",
       "</style>\n",
       "<table border=\"1\" class=\"dataframe\">\n",
       "  <thead>\n",
       "    <tr style=\"text-align: right;\">\n",
       "      <th></th>\n",
       "      <th>Daily Time Spent on Site</th>\n",
       "      <th>Age</th>\n",
       "      <th>Area Income</th>\n",
       "      <th>Daily Internet Usage</th>\n",
       "      <th>Male</th>\n",
       "      <th>Timestamp</th>\n",
       "      <th>Clicked on Ad</th>\n",
       "      <th>city</th>\n",
       "      <th>province</th>\n",
       "      <th>category</th>\n",
       "    </tr>\n",
       "  </thead>\n",
       "  <tbody>\n",
       "    <tr>\n",
       "      <th>0</th>\n",
       "      <td>68.95</td>\n",
       "      <td>35</td>\n",
       "      <td>432837300.0</td>\n",
       "      <td>256.09</td>\n",
       "      <td>Perempuan</td>\n",
       "      <td>3/27/2016 0:53</td>\n",
       "      <td>No</td>\n",
       "      <td>Jakarta Timur</td>\n",
       "      <td>Daerah Khusus Ibukota Jakarta</td>\n",
       "      <td>Furniture</td>\n",
       "    </tr>\n",
       "    <tr>\n",
       "      <th>1</th>\n",
       "      <td>80.23</td>\n",
       "      <td>31</td>\n",
       "      <td>479092950.0</td>\n",
       "      <td>193.77</td>\n",
       "      <td>Laki-Laki</td>\n",
       "      <td>4/4/2016 1:39</td>\n",
       "      <td>No</td>\n",
       "      <td>Denpasar</td>\n",
       "      <td>Bali</td>\n",
       "      <td>Food</td>\n",
       "    </tr>\n",
       "    <tr>\n",
       "      <th>2</th>\n",
       "      <td>69.47</td>\n",
       "      <td>26</td>\n",
       "      <td>418501580.0</td>\n",
       "      <td>236.50</td>\n",
       "      <td>Perempuan</td>\n",
       "      <td>3/13/2016 20:35</td>\n",
       "      <td>No</td>\n",
       "      <td>Surabaya</td>\n",
       "      <td>Jawa Timur</td>\n",
       "      <td>Electronic</td>\n",
       "    </tr>\n",
       "    <tr>\n",
       "      <th>3</th>\n",
       "      <td>74.15</td>\n",
       "      <td>29</td>\n",
       "      <td>383643260.0</td>\n",
       "      <td>245.89</td>\n",
       "      <td>Laki-Laki</td>\n",
       "      <td>1/10/2016 2:31</td>\n",
       "      <td>No</td>\n",
       "      <td>Batam</td>\n",
       "      <td>Kepulauan Riau</td>\n",
       "      <td>House</td>\n",
       "    </tr>\n",
       "    <tr>\n",
       "      <th>4</th>\n",
       "      <td>68.37</td>\n",
       "      <td>35</td>\n",
       "      <td>517229930.0</td>\n",
       "      <td>225.58</td>\n",
       "      <td>Perempuan</td>\n",
       "      <td>6/3/2016 3:36</td>\n",
       "      <td>No</td>\n",
       "      <td>Medan</td>\n",
       "      <td>Sumatra Utara</td>\n",
       "      <td>Finance</td>\n",
       "    </tr>\n",
       "  </tbody>\n",
       "</table>\n",
       "</div>"
      ],
      "text/plain": [
       "   Daily Time Spent on Site  Age  Area Income  Daily Internet Usage  \\\n",
       "0                     68.95   35  432837300.0                256.09   \n",
       "1                     80.23   31  479092950.0                193.77   \n",
       "2                     69.47   26  418501580.0                236.50   \n",
       "3                     74.15   29  383643260.0                245.89   \n",
       "4                     68.37   35  517229930.0                225.58   \n",
       "\n",
       "        Male        Timestamp Clicked on Ad           city  \\\n",
       "0  Perempuan   3/27/2016 0:53            No  Jakarta Timur   \n",
       "1  Laki-Laki    4/4/2016 1:39            No       Denpasar   \n",
       "2  Perempuan  3/13/2016 20:35            No       Surabaya   \n",
       "3  Laki-Laki   1/10/2016 2:31            No          Batam   \n",
       "4  Perempuan    6/3/2016 3:36            No          Medan   \n",
       "\n",
       "                        province    category  \n",
       "0  Daerah Khusus Ibukota Jakarta   Furniture  \n",
       "1                           Bali        Food  \n",
       "2                     Jawa Timur  Electronic  \n",
       "3                 Kepulauan Riau       House  \n",
       "4                  Sumatra Utara     Finance  "
      ]
     },
     "execution_count": 4,
     "metadata": {},
     "output_type": "execute_result"
    }
   ],
   "source": [
    "df.drop(columns = ['Unnamed: 0'], inplace = True)\n",
    "df.head()"
   ]
  },
  {
   "cell_type": "code",
   "execution_count": 5,
   "id": "39f09492-5427-424e-84a9-b498f9ae040b",
   "metadata": {},
   "outputs": [
    {
     "data": {
      "text/plain": [
       "(1000, 10)"
      ]
     },
     "execution_count": 5,
     "metadata": {},
     "output_type": "execute_result"
    }
   ],
   "source": [
    "df.shape"
   ]
  },
  {
   "cell_type": "code",
   "execution_count": 6,
   "id": "4dcfb95b-e85a-4015-b271-fbb641115a00",
   "metadata": {},
   "outputs": [
    {
     "name": "stdout",
     "output_type": "stream",
     "text": [
      "<class 'pandas.core.frame.DataFrame'>\n",
      "RangeIndex: 1000 entries, 0 to 999\n",
      "Data columns (total 10 columns):\n",
      " #   Column                    Non-Null Count  Dtype  \n",
      "---  ------                    --------------  -----  \n",
      " 0   Daily Time Spent on Site  987 non-null    float64\n",
      " 1   Age                       1000 non-null   int64  \n",
      " 2   Area Income               987 non-null    float64\n",
      " 3   Daily Internet Usage      989 non-null    float64\n",
      " 4   Male                      997 non-null    object \n",
      " 5   Timestamp                 1000 non-null   object \n",
      " 6   Clicked on Ad             1000 non-null   object \n",
      " 7   city                      1000 non-null   object \n",
      " 8   province                  1000 non-null   object \n",
      " 9   category                  1000 non-null   object \n",
      "dtypes: float64(3), int64(1), object(6)\n",
      "memory usage: 78.2+ KB\n"
     ]
    }
   ],
   "source": [
    "df.info()"
   ]
  },
  {
   "cell_type": "code",
   "execution_count": 7,
   "id": "6bae55fd-74ae-403a-9013-2b672c99078d",
   "metadata": {},
   "outputs": [
    {
     "data": {
      "text/plain": [
       "Index(['Daily Time Spent on Site', 'Age', 'Area Income',\n",
       "       'Daily Internet Usage', 'Male', 'Timestamp', 'Clicked on Ad', 'city',\n",
       "       'province', 'category'],\n",
       "      dtype='object')"
      ]
     },
     "execution_count": 7,
     "metadata": {},
     "output_type": "execute_result"
    }
   ],
   "source": [
    "df.columns"
   ]
  },
  {
   "cell_type": "markdown",
   "id": "66df7bcc-fb23-4b02-8a24-263b5b9b7e32",
   "metadata": {},
   "source": [
    "## Statistical Summary"
   ]
  },
  {
   "cell_type": "code",
   "execution_count": 8,
   "id": "a9f25725-ce36-461d-bd40-2e6db76d1e9f",
   "metadata": {},
   "outputs": [
    {
     "name": "stdout",
     "output_type": "stream",
     "text": [
      "Data category:  ['Male', 'Timestamp', 'Clicked on Ad', 'city', 'province', 'category']\n",
      "Data numerik:  ['Daily Time Spent on Site', 'Age', 'Area Income', 'Daily Internet Usage']\n"
     ]
    }
   ],
   "source": [
    "cats = df.select_dtypes(include = 'object')\n",
    "nums = df.select_dtypes(exclude = 'object')\n",
    "cats_cols = cats.columns.to_list()\n",
    "nums_cols = nums.columns.to_list()\n",
    "print('Data category: ',cats_cols)\n",
    "print('Data numerik: ',nums_cols)"
   ]
  },
  {
   "cell_type": "code",
   "execution_count": 9,
   "id": "b411e1ce-596e-4e53-97ac-987f573f3001",
   "metadata": {},
   "outputs": [
    {
     "data": {
      "text/html": [
       "<div>\n",
       "<style scoped>\n",
       "    .dataframe tbody tr th:only-of-type {\n",
       "        vertical-align: middle;\n",
       "    }\n",
       "\n",
       "    .dataframe tbody tr th {\n",
       "        vertical-align: top;\n",
       "    }\n",
       "\n",
       "    .dataframe thead th {\n",
       "        text-align: right;\n",
       "    }\n",
       "</style>\n",
       "<table border=\"1\" class=\"dataframe\">\n",
       "  <thead>\n",
       "    <tr style=\"text-align: right;\">\n",
       "      <th></th>\n",
       "      <th>count</th>\n",
       "      <th>mean</th>\n",
       "      <th>std</th>\n",
       "      <th>min</th>\n",
       "      <th>25%</th>\n",
       "      <th>50%</th>\n",
       "      <th>75%</th>\n",
       "      <th>max</th>\n",
       "    </tr>\n",
       "  </thead>\n",
       "  <tbody>\n",
       "    <tr>\n",
       "      <th>Daily Time Spent on Site</th>\n",
       "      <td>987.0</td>\n",
       "      <td>6.492952e+01</td>\n",
       "      <td>1.584470e+01</td>\n",
       "      <td>32.60</td>\n",
       "      <td>5.127000e+01</td>\n",
       "      <td>6.811000e+01</td>\n",
       "      <td>7.846000e+01</td>\n",
       "      <td>9.143000e+01</td>\n",
       "    </tr>\n",
       "    <tr>\n",
       "      <th>Age</th>\n",
       "      <td>1000.0</td>\n",
       "      <td>3.600900e+01</td>\n",
       "      <td>8.785562e+00</td>\n",
       "      <td>19.00</td>\n",
       "      <td>2.900000e+01</td>\n",
       "      <td>3.500000e+01</td>\n",
       "      <td>4.200000e+01</td>\n",
       "      <td>6.100000e+01</td>\n",
       "    </tr>\n",
       "    <tr>\n",
       "      <th>Area Income</th>\n",
       "      <td>987.0</td>\n",
       "      <td>3.848647e+08</td>\n",
       "      <td>9.407999e+07</td>\n",
       "      <td>97975500.00</td>\n",
       "      <td>3.286330e+08</td>\n",
       "      <td>3.990683e+08</td>\n",
       "      <td>4.583554e+08</td>\n",
       "      <td>5.563936e+08</td>\n",
       "    </tr>\n",
       "    <tr>\n",
       "      <th>Daily Internet Usage</th>\n",
       "      <td>989.0</td>\n",
       "      <td>1.798636e+02</td>\n",
       "      <td>4.387014e+01</td>\n",
       "      <td>104.78</td>\n",
       "      <td>1.387100e+02</td>\n",
       "      <td>1.826500e+02</td>\n",
       "      <td>2.187900e+02</td>\n",
       "      <td>2.670100e+02</td>\n",
       "    </tr>\n",
       "  </tbody>\n",
       "</table>\n",
       "</div>"
      ],
      "text/plain": [
       "                           count          mean           std          min  \\\n",
       "Daily Time Spent on Site   987.0  6.492952e+01  1.584470e+01        32.60   \n",
       "Age                       1000.0  3.600900e+01  8.785562e+00        19.00   \n",
       "Area Income                987.0  3.848647e+08  9.407999e+07  97975500.00   \n",
       "Daily Internet Usage       989.0  1.798636e+02  4.387014e+01       104.78   \n",
       "\n",
       "                                   25%           50%           75%  \\\n",
       "Daily Time Spent on Site  5.127000e+01  6.811000e+01  7.846000e+01   \n",
       "Age                       2.900000e+01  3.500000e+01  4.200000e+01   \n",
       "Area Income               3.286330e+08  3.990683e+08  4.583554e+08   \n",
       "Daily Internet Usage      1.387100e+02  1.826500e+02  2.187900e+02   \n",
       "\n",
       "                                   max  \n",
       "Daily Time Spent on Site  9.143000e+01  \n",
       "Age                       6.100000e+01  \n",
       "Area Income               5.563936e+08  \n",
       "Daily Internet Usage      2.670100e+02  "
      ]
     },
     "execution_count": 9,
     "metadata": {},
     "output_type": "execute_result"
    }
   ],
   "source": [
    "df[nums_cols].describe().T"
   ]
  },
  {
   "cell_type": "code",
   "execution_count": 10,
   "id": "f2991264-42f9-4bd3-875a-ce8bb7dd6a42",
   "metadata": {},
   "outputs": [
    {
     "data": {
      "text/html": [
       "<div>\n",
       "<style scoped>\n",
       "    .dataframe tbody tr th:only-of-type {\n",
       "        vertical-align: middle;\n",
       "    }\n",
       "\n",
       "    .dataframe tbody tr th {\n",
       "        vertical-align: top;\n",
       "    }\n",
       "\n",
       "    .dataframe thead th {\n",
       "        text-align: right;\n",
       "    }\n",
       "</style>\n",
       "<table border=\"1\" class=\"dataframe\">\n",
       "  <thead>\n",
       "    <tr style=\"text-align: right;\">\n",
       "      <th></th>\n",
       "      <th>count</th>\n",
       "      <th>unique</th>\n",
       "      <th>top</th>\n",
       "      <th>freq</th>\n",
       "    </tr>\n",
       "  </thead>\n",
       "  <tbody>\n",
       "    <tr>\n",
       "      <th>Male</th>\n",
       "      <td>997</td>\n",
       "      <td>2</td>\n",
       "      <td>Perempuan</td>\n",
       "      <td>518</td>\n",
       "    </tr>\n",
       "    <tr>\n",
       "      <th>Timestamp</th>\n",
       "      <td>1000</td>\n",
       "      <td>997</td>\n",
       "      <td>5/26/2016 15:40</td>\n",
       "      <td>2</td>\n",
       "    </tr>\n",
       "    <tr>\n",
       "      <th>Clicked on Ad</th>\n",
       "      <td>1000</td>\n",
       "      <td>2</td>\n",
       "      <td>No</td>\n",
       "      <td>500</td>\n",
       "    </tr>\n",
       "    <tr>\n",
       "      <th>city</th>\n",
       "      <td>1000</td>\n",
       "      <td>30</td>\n",
       "      <td>Surabaya</td>\n",
       "      <td>64</td>\n",
       "    </tr>\n",
       "    <tr>\n",
       "      <th>province</th>\n",
       "      <td>1000</td>\n",
       "      <td>16</td>\n",
       "      <td>Daerah Khusus Ibukota Jakarta</td>\n",
       "      <td>253</td>\n",
       "    </tr>\n",
       "    <tr>\n",
       "      <th>category</th>\n",
       "      <td>1000</td>\n",
       "      <td>10</td>\n",
       "      <td>Otomotif</td>\n",
       "      <td>112</td>\n",
       "    </tr>\n",
       "  </tbody>\n",
       "</table>\n",
       "</div>"
      ],
      "text/plain": [
       "              count unique                            top freq\n",
       "Male            997      2                      Perempuan  518\n",
       "Timestamp      1000    997                5/26/2016 15:40    2\n",
       "Clicked on Ad  1000      2                             No  500\n",
       "city           1000     30                       Surabaya   64\n",
       "province       1000     16  Daerah Khusus Ibukota Jakarta  253\n",
       "category       1000     10                       Otomotif  112"
      ]
     },
     "execution_count": 10,
     "metadata": {},
     "output_type": "execute_result"
    }
   ],
   "source": [
    "df[cats_cols].describe().T"
   ]
  },
  {
   "cell_type": "code",
   "execution_count": 11,
   "id": "eb2a6a1e-fa8b-4aa5-a72f-52a4e44877c6",
   "metadata": {},
   "outputs": [
    {
     "name": "stdout",
     "output_type": "stream",
     "text": [
      "------------------------------\n",
      "Male\n",
      "Perempuan    518\n",
      "Laki-Laki    479\n",
      "Name: Male, dtype: int64\n",
      "------------------------------\n",
      "Timestamp\n",
      "5/26/2016 15:40    2\n",
      "5/30/2016 8:02     2\n",
      "5/20/2016 12:17    2\n",
      "5/15/2016 3:10     1\n",
      "4/5/2016 8:18      1\n",
      "                  ..\n",
      "5/12/2016 4:35     1\n",
      "1/1/2016 21:58     1\n",
      "3/13/2016 13:50    1\n",
      "7/16/2016 14:13    1\n",
      "6/3/2016 21:43     1\n",
      "Name: Timestamp, Length: 997, dtype: int64\n",
      "------------------------------\n",
      "Clicked on Ad\n",
      "No     500\n",
      "Yes    500\n",
      "Name: Clicked on Ad, dtype: int64\n",
      "------------------------------\n",
      "city\n",
      "Surabaya             64\n",
      "Bandung              64\n",
      "Jakarta Timur        63\n",
      "Jakarta Selatan      61\n",
      "Jakarta Barat        57\n",
      "Bekasi               56\n",
      "Medan                48\n",
      "Jakarta Utara        45\n",
      "Palembang            42\n",
      "Semarang             41\n",
      "Batam                34\n",
      "Makassar             33\n",
      "Tangerang Selatan    33\n",
      "Tangerang            32\n",
      "Depok                30\n",
      "Bandar Lampung       29\n",
      "Bogor                28\n",
      "Jakarta Pusat        27\n",
      "Malang               26\n",
      "Banjarmasin          23\n",
      "Pakanbaru            23\n",
      "Denpasar             21\n",
      "Padang               19\n",
      "Balikpapan           18\n",
      "Cimahi               17\n",
      "Samarinda            16\n",
      "Tasikmalaya          15\n",
      "Pontianak            12\n",
      "Surakarta            12\n",
      "Serang               11\n",
      "Name: city, dtype: int64\n",
      "------------------------------\n",
      "province\n",
      "Daerah Khusus Ibukota Jakarta    253\n",
      "Jawa Barat                       210\n",
      "Jawa Timur                        90\n",
      "Banten                            76\n",
      "Jawa Tengah                       53\n",
      "Sumatra Utara                     48\n",
      "Sumatra Selatan                   42\n",
      "Kepulauan Riau                    34\n",
      "Kalimantan Timur                  34\n",
      "Sulawesi Selatan                  33\n",
      "Lampung                           29\n",
      "Kalimantan Selatan                23\n",
      "Riau                              23\n",
      "Bali                              21\n",
      "Sumatra Barat                     19\n",
      "Kalimantan Barat                  12\n",
      "Name: province, dtype: int64\n",
      "------------------------------\n",
      "category\n",
      "Otomotif      112\n",
      "House         109\n",
      "Health        104\n",
      "Fashion       102\n",
      "Food           99\n",
      "Furniture      98\n",
      "Travel         98\n",
      "Electronic     97\n",
      "Finance        91\n",
      "Bank           90\n",
      "Name: category, dtype: int64\n"
     ]
    }
   ],
   "source": [
    "for i in cats:\n",
    "    print('---'*10)\n",
    "    print(i)\n",
    "    print(df[i].value_counts())"
   ]
  },
  {
   "cell_type": "markdown",
   "id": "f7a18e29-6064-4700-ac01-95b8c72ee29e",
   "metadata": {},
   "source": [
    "## Feature Engineering"
   ]
  },
  {
   "cell_type": "code",
   "execution_count": 12,
   "id": "ff7cf54f-2646-4e6d-867f-8ebc4b966a52",
   "metadata": {},
   "outputs": [
    {
     "data": {
      "text/plain": [
       "dtype('O')"
      ]
     },
     "execution_count": 12,
     "metadata": {},
     "output_type": "execute_result"
    }
   ],
   "source": [
    "df.Timestamp.dtype"
   ]
  },
  {
   "cell_type": "code",
   "execution_count": 13,
   "id": "c5c21e97-79ca-4a32-853c-ce62d1f7a4e0",
   "metadata": {},
   "outputs": [],
   "source": [
    "df.Timestamp = pd.to_datetime(df.Timestamp)"
   ]
  },
  {
   "cell_type": "code",
   "execution_count": 14,
   "id": "c2d96de4-f36c-4920-98f2-4232a0f9e7a1",
   "metadata": {},
   "outputs": [
    {
     "data": {
      "text/plain": [
       "dtype('<M8[ns]')"
      ]
     },
     "execution_count": 14,
     "metadata": {},
     "output_type": "execute_result"
    }
   ],
   "source": [
    "df.Timestamp.dtype"
   ]
  },
  {
   "cell_type": "code",
   "execution_count": 15,
   "id": "45d24773-602b-40da-a64a-9ec2963cd8be",
   "metadata": {},
   "outputs": [
    {
     "data": {
      "text/plain": [
       "array([3, 4, 1, 6, 5, 7, 2], dtype=int64)"
      ]
     },
     "execution_count": 15,
     "metadata": {},
     "output_type": "execute_result"
    }
   ],
   "source": [
    "df['month'] = df.Timestamp.dt.month\n",
    "df.month.unique()"
   ]
  },
  {
   "cell_type": "markdown",
   "id": "d1c22783-b1be-4c7d-8843-e68ef6b7d103",
   "metadata": {},
   "source": [
    "## Univariate Analysis"
   ]
  },
  {
   "cell_type": "markdown",
   "id": "e4ff7144-7466-44bb-b557-72c410ef1d23",
   "metadata": {},
   "source": [
    "### Numerical Feature"
   ]
  },
  {
   "cell_type": "code",
   "execution_count": 16,
   "id": "7865dabc-3962-4812-8ff0-b5eadab3d381",
   "metadata": {},
   "outputs": [
    {
     "data": {
      "text/plain": [
       "4"
      ]
     },
     "execution_count": 16,
     "metadata": {},
     "output_type": "execute_result"
    }
   ],
   "source": [
    "len(nums_cols)"
   ]
  },
  {
   "cell_type": "code",
   "execution_count": 17,
   "id": "8b1a1d03-d513-44e9-9243-ebb0977db5fc",
   "metadata": {},
   "outputs": [
    {
     "data": {
      "image/png": "[encoded data removed]",
      "text/plain": [
       "<Figure size 864x576 with 4 Axes>"
      ]
     },
     "metadata": {
      "needs_background": "light"
     },
     "output_type": "display_data"
    }
   ],
   "source": [
    "plt.figure(figsize=(12,8))\n",
    "for i in range(0,len(nums_cols)):\n",
    "    plt.subplot(4,2,i+1)\n",
    "    sns.kdeplot(x=df[nums_cols[i]], palette='viridis', shade=True)\n",
    "    plt.title(nums_cols[i], fontsize=20)\n",
    "    plt.xlabel(' ')\n",
    "    plt.tight_layout()"
   ]
  },
  {
   "cell_type": "markdown",
   "id": "9c0dbd6e-9f31-46a6-b37f-bf4c602ebd7e",
   "metadata": {},
   "source": [
    "1. Feature `Daily Time Spent on Site` memiliki distribusi skew dengan nilai rata-rata lebih besar dari nilai median\n",
    "2. Feature `Age` mendekati distribusi normal dengan umur rata-rata 36 tahun\n",
    "3. Feature `Area Income` memiliki distribusi skew dengan nilai median lebih besar dari nilai rata-rata\n",
    "4. Feature`Daily Internet Usage` memiliki distribusi skew dengan nilai median lebih besar dari nilai rata-rata"
   ]
  },
  {
   "cell_type": "markdown",
   "id": "0269c62f-b611-4e8b-9dc3-f6647a50ea0a",
   "metadata": {},
   "source": [
    "### Categorical Feature"
   ]
  },
  {
   "cell_type": "code",
   "execution_count": 18,
   "id": "d0fba339-4fbc-49b1-ab99-567a1c062b29",
   "metadata": {},
   "outputs": [
    {
     "name": "stdout",
     "output_type": "stream",
     "text": [
      "<class 'pandas.core.frame.DataFrame'>\n",
      "RangeIndex: 1000 entries, 0 to 999\n",
      "Data columns (total 11 columns):\n",
      " #   Column                    Non-Null Count  Dtype         \n",
      "---  ------                    --------------  -----         \n",
      " 0   Daily Time Spent on Site  987 non-null    float64       \n",
      " 1   Age                       1000 non-null   int64         \n",
      " 2   Area Income               987 non-null    float64       \n",
      " 3   Daily Internet Usage      989 non-null    float64       \n",
      " 4   Male                      997 non-null    object        \n",
      " 5   Timestamp                 1000 non-null   datetime64[ns]\n",
      " 6   Clicked on Ad             1000 non-null   object        \n",
      " 7   city                      1000 non-null   object        \n",
      " 8   province                  1000 non-null   object        \n",
      " 9   category                  1000 non-null   object        \n",
      " 10  month                     1000 non-null   int64         \n",
      "dtypes: datetime64[ns](1), float64(3), int64(2), object(5)\n",
      "memory usage: 86.1+ KB\n"
     ]
    }
   ],
   "source": [
    "df.info()"
   ]
  },
  {
   "cell_type": "code",
   "execution_count": 19,
   "id": "ae5fe5c1-f95d-462e-b26d-c3b5902e6346",
   "metadata": {},
   "outputs": [],
   "source": [
    "cats = ['Male','Clicked on Ad','city','province','category','month']"
   ]
  },
  {
   "cell_type": "code",
   "execution_count": 20,
   "id": "aed9c854-3415-4456-833a-73e93bb0f9f1",
   "metadata": {},
   "outputs": [
    {
     "data": {
      "image/png": "[encoded data removed]",
      "text/plain": [
       "<Figure size 1080x1080 with 6 Axes>"
      ]
     },
     "metadata": {
      "needs_background": "light"
     },
     "output_type": "display_data"
    }
   ],
   "source": [
    "plt.figure(figsize=(15,15))\n",
    "for i in range(0,len(cats)):\n",
    "    plt.subplot(3,2,i+1)\n",
    "    sns.countplot(y=df[cats[i]], orient = 'h',palette='viridis')\n",
    "    plt.title(cats[i])\n",
    "    plt.xlabel(' ')\n",
    "    plt.tight_layout()"
   ]
  },
  {
   "cell_type": "markdown",
   "id": "a582ce49-8e76-49aa-b374-a23e9d581406",
   "metadata": {},
   "source": [
    "1. Feature `Male` didominasi oleh perempuan\n",
    "2. Feature `Clicked on Ad` memiliki jumlah yang seimbang antara label `yes` dan label `no`\n",
    "3. Feature `city` didominasi oleh kota `Surabaya` dan `Bandung`\n",
    "4. Feature `province` didominasi oleh `Daerah Khusus Ibu Kota Jakarta`\n",
    "5. Feature`category` didominasi oleh otomotif,dimana banyak yang berminat untuk melihat iklan ototmotif\n",
    "6. Feature `month` didominasi oleh bulan februari/`2`"
   ]
  },
  {
   "cell_type": "markdown",
   "id": "069e8ebf-058c-40f9-a4d2-293aa6faa330",
   "metadata": {},
   "source": [
    "### Biavariate Analaysis"
   ]
  },
  {
   "cell_type": "markdown",
   "id": "3e8a3096-b44a-4b66-a743-8c4f77d0126d",
   "metadata": {},
   "source": [
    "### Numerical Feature"
   ]
  },
  {
   "cell_type": "code",
   "execution_count": 21,
   "id": "f1aaf174-d996-4c4f-a31b-7ef4f402b052",
   "metadata": {},
   "outputs": [
    {
     "data": {
      "text/plain": [
       "<Figure size 720x720 with 0 Axes>"
      ]
     },
     "metadata": {},
     "output_type": "display_data"
    },
    {
     "data": {
      "image/png": "[encoded data removed]",
      "text/plain": [
       "<Figure size 615.75x540 with 12 Axes>"
      ]
     },
     "metadata": {
      "needs_background": "light"
     },
     "output_type": "display_data"
    }
   ],
   "source": [
    "plt.figure(figsize = (10,10))\n",
    "sns.pairplot(df[['Age','Daily Time Spent on Site','Daily Internet Usage','Clicked on Ad']], diag_kind='kde',hue='Clicked on Ad')\n",
    "plt.show()"
   ]
  },
  {
   "cell_type": "code",
   "execution_count": 22,
   "id": "83b80411-4a86-420d-9133-a97929166db8",
   "metadata": {},
   "outputs": [],
   "source": [
    "nums2 = ['Daily Time Spent on Site', 'Age', 'Daily Internet Usage']"
   ]
  },
  {
   "cell_type": "code",
   "execution_count": 23,
   "id": "e1035222-fc92-451c-9891-19a02f9bb30c",
   "metadata": {},
   "outputs": [
    {
     "data": {
      "image/png": "[encoded data removed]",
      "text/plain": [
       "<Figure size 1152x720 with 3 Axes>"
      ]
     },
     "metadata": {
      "needs_background": "light"
     },
     "output_type": "display_data"
    }
   ],
   "source": [
    "plt.figure(figsize= (16,10))\n",
    "for i in range(0, len(nums2)):\n",
    "    plt.subplot(4,4,i+1)\n",
    "    sns.kdeplot(x=df[nums2[i]], hue=df['Clicked on Ad'])\n",
    "    plt.xlabel(nums2[i])\n",
    "    plt.tight_layout()"
   ]
  },
  {
   "cell_type": "code",
   "execution_count": 24,
   "id": "2d3f7624-d2b2-444c-8507-3e1b86f65201",
   "metadata": {},
   "outputs": [
    {
     "data": {
      "image/png": "[encoded data removed]",
      "text/plain": [
       "<Figure size 1152x504 with 3 Axes>"
      ]
     },
     "metadata": {
      "needs_background": "light"
     },
     "output_type": "display_data"
    }
   ],
   "source": [
    "plt.figure(figsize=(16, 7))\n",
    "for i in range(0, len(nums2)):\n",
    "    plt.subplot(4, 4, i+1)\n",
    "    sns.boxplot(x=df[nums2[i]],y=df['Clicked on Ad'])\n",
    "    plt.xlabel(nums2[i])\n",
    "    plt.tight_layout()"
   ]
  },
  {
   "cell_type": "markdown",
   "id": "51ba57f6-89f8-45d3-b809-c7a3bbd09221",
   "metadata": {},
   "source": [
    "* User dengan `Daily Time Spent on Site` 20-50 cenderung untuk mengclick ads yang diberikan dibandingkan user dengan `Daily Time Spent on Site` 60-100. Hal ini bisa terjadi mungkin karena user `Daily Time Spent on Site` 60-100 sudah mengetahui hal apa yang ingin dilihat sehingga menghiraukan ads yang ditawarkan \n",
    "* User dengan rentang umur 35-45 cenderung untuk mengclick ads yang diberikan.Sementara user diabwah 35 tahun cenderung menghiraukan ads yang diberikan\n",
    "* User dengan `Daily Internet Usage` yang relatif singkat cenderung untuk mengclick ads yang diberikan dibandingkan user dengan `Dailiy Internet Usage` yang relatif lama."
   ]
  },
  {
   "cell_type": "markdown",
   "id": "91f2cdf6-4ef4-4311-8edc-626055d27b84",
   "metadata": {},
   "source": [
    "### Categorical Feature"
   ]
  },
  {
   "cell_type": "code",
   "execution_count": 25,
   "id": "93130d2c-75ca-43ba-a8cb-89fd3e582b72",
   "metadata": {},
   "outputs": [
    {
     "data": {
      "image/png": "[encoded data removed]",
      "text/plain": [
       "<Figure size 1080x1080 with 6 Axes>"
      ]
     },
     "metadata": {
      "needs_background": "light"
     },
     "output_type": "display_data"
    }
   ],
   "source": [
    "plt.figure(figsize=(15,15))\n",
    "for i in range(0,len(cats)):\n",
    "    plt.subplot(3,2,i+1)\n",
    "    sns.countplot(y=df[cats[i]], palette='viridis', hue=df['Clicked on Ad'])\n",
    "    plt.title(cats[i])\n",
    "    plt.xlabel(' ')\n",
    "    plt.tight_layout()"
   ]
  },
  {
   "cell_type": "markdown",
   "id": "068ef4bc-d8fd-4b41-8ddf-75eb8fe48ecd",
   "metadata": {},
   "source": [
    "* Pada feature `Male`, user perempuan lebih banyak mengclick Ads dibandingkan user laki-laki\n",
    "* Category iklan otomotif cenderung lebih banyak untuk diclick,disusul Fashion, dan House.Sementara category Health memiliki jumlah tertinggi untuk tidak diclick Ads\n",
    "* Bulan `2` / Februari menjadi bulan terbanyak untuk user mengclick ads yang diberikan\n",
    "* User di Provinsi Jawa Barat cenderung untuk mengclick ads yang diberikan, sementara DKI Jakarta lebih banyak menghiraukan ads\n",
    "* Kota Bandung menjadi jumlah user terbanyak yang mengclik ads"
   ]
  },
  {
   "cell_type": "markdown",
   "id": "615fac42-1c50-4424-b877-899c5ed121e5",
   "metadata": {},
   "source": [
    "## Multivariate Analysis"
   ]
  },
  {
   "cell_type": "code",
   "execution_count": 26,
   "id": "721006d7-5796-4fd4-81c0-6f88c3f5894c",
   "metadata": {},
   "outputs": [
    {
     "data": {
      "image/png": "[encoded data removed]",
      "text/plain": [
       "<Figure size 576x288 with 2 Axes>"
      ]
     },
     "metadata": {
      "needs_background": "light"
     },
     "output_type": "display_data"
    }
   ],
   "source": [
    "plt.figure(figsize=(8, 4))\n",
    "sns.heatmap(df.corr(), annot=True, fmt='.3f')\n",
    "plt.show()"
   ]
  },
  {
   "cell_type": "markdown",
   "id": "f3097b4c-d773-4703-926b-b8cd1f716527",
   "metadata": {},
   "source": [
    "* Feature `Daily Time Spent on Site` berkorelasi positif cukup tinggi dengan `Daily Internet Usage`\n",
    "* Feature `Age` berkorelasi negatif dengan feature `Daily Time Spent on Site`, `Area Income` dan `Daily Internet Usage`\n",
    "* Feature Area Income berkorelasi positif dengan feature `Daily Time Spent on Site` dan `Daily Internet Usage` dan berkorelasi negatif dengan feature `Age`"
   ]
  },
  {
   "cell_type": "markdown",
   "id": "d42aebc4-8c09-44b8-8774-0fc8dec6e47e",
   "metadata": {},
   "source": [
    "## Cleaning Data and Pre-Processing"
   ]
  },
  {
   "cell_type": "code",
   "execution_count": 27,
   "id": "f97b84be-8025-41a5-bc09-b5447e2be152",
   "metadata": {},
   "outputs": [],
   "source": [
    "df_clean = df.copy()"
   ]
  },
  {
   "cell_type": "code",
   "execution_count": 28,
   "id": "f750859b-a016-4336-99eb-7e3ba67255b0",
   "metadata": {},
   "outputs": [
    {
     "data": {
      "text/plain": [
       "Index(['Daily Time Spent on Site', 'Age', 'Area Income',\n",
       "       'Daily Internet Usage', 'Male', 'Timestamp', 'Clicked on Ad', 'city',\n",
       "       'province', 'category', 'month'],\n",
       "      dtype='object')"
      ]
     },
     "execution_count": 28,
     "metadata": {},
     "output_type": "execute_result"
    }
   ],
   "source": [
    "df_clean.columns"
   ]
  },
  {
   "cell_type": "markdown",
   "id": "1eaa367c-fc36-424c-92c3-ddc6ba35bb51",
   "metadata": {},
   "source": [
    "## Check Missing Values"
   ]
  },
  {
   "cell_type": "code",
   "execution_count": 29,
   "id": "7fdd6e74-33d9-470e-950d-6a03efe19075",
   "metadata": {},
   "outputs": [
    {
     "data": {
      "text/plain": [
       "Daily Time Spent on Site    13\n",
       "Area Income                 13\n",
       "Daily Internet Usage        11\n",
       "Male                         3\n",
       "Age                          0\n",
       "Timestamp                    0\n",
       "Clicked on Ad                0\n",
       "city                         0\n",
       "province                     0\n",
       "category                     0\n",
       "month                        0\n",
       "dtype: int64"
      ]
     },
     "execution_count": 29,
     "metadata": {},
     "output_type": "execute_result"
    }
   ],
   "source": [
    "df_clean.isnull().sum().sort_values(ascending = False)"
   ]
  },
  {
   "cell_type": "code",
   "execution_count": 30,
   "id": "707e1c50-8c77-4c1a-9df0-194d79cea0af",
   "metadata": {},
   "outputs": [
    {
     "data": {
      "text/plain": [
       "Daily Time Spent on Site    0\n",
       "Age                         0\n",
       "Area Income                 0\n",
       "Daily Internet Usage        0\n",
       "Male                        3\n",
       "Timestamp                   0\n",
       "Clicked on Ad               0\n",
       "city                        0\n",
       "province                    0\n",
       "category                    0\n",
       "month                       0\n",
       "dtype: int64"
      ]
     },
     "execution_count": 30,
     "metadata": {},
     "output_type": "execute_result"
    }
   ],
   "source": [
    "for col in df_clean.select_dtypes(exclude = 'object'):\n",
    "    df_clean[col] = df_clean[col].fillna(df_clean[col].median())\n",
    "df_clean.isnull().sum()"
   ]
  },
  {
   "cell_type": "code",
   "execution_count": 31,
   "id": "09d0a2b4-6c8a-47f9-b4ee-224a18e85ab7",
   "metadata": {},
   "outputs": [
    {
     "data": {
      "text/plain": [
       "Daily Time Spent on Site    0\n",
       "Age                         0\n",
       "Area Income                 0\n",
       "Daily Internet Usage        0\n",
       "Male                        0\n",
       "Timestamp                   0\n",
       "Clicked on Ad               0\n",
       "city                        0\n",
       "province                    0\n",
       "category                    0\n",
       "month                       0\n",
       "dtype: int64"
      ]
     },
     "execution_count": 31,
     "metadata": {},
     "output_type": "execute_result"
    }
   ],
   "source": [
    "df_clean['Male'].fillna('Perempuan',inplace = True)\n",
    "df_clean.isnull().sum()"
   ]
  },
  {
   "cell_type": "markdown",
   "id": "6a3a8400-c4f5-499f-8511-7eb9c48dc8bb",
   "metadata": {},
   "source": [
    "## Check Duplicated Data"
   ]
  },
  {
   "cell_type": "code",
   "execution_count": 32,
   "id": "f6eae248-fca0-4d57-9447-bc1422925749",
   "metadata": {},
   "outputs": [
    {
     "data": {
      "text/plain": [
       "0"
      ]
     },
     "execution_count": 32,
     "metadata": {},
     "output_type": "execute_result"
    }
   ],
   "source": [
    "df_clean.duplicated().sum()"
   ]
  },
  {
   "cell_type": "code",
   "execution_count": 33,
   "id": "f3013846-a55a-4cfd-911c-aa12c0c1aa5c",
   "metadata": {},
   "outputs": [],
   "source": [
    "#Feature Enginerring\n",
    "df_clean['year']=df_clean.Timestamp.dt.year\n",
    "df_clean['week']=df_clean.Timestamp.dt.isocalendar().week\n",
    "df_clean['day']=df_clean.Timestamp.dt.day"
   ]
  },
  {
   "cell_type": "code",
   "execution_count": 34,
   "id": "610b68da-dbfb-43a2-9d09-a97242055e4c",
   "metadata": {},
   "outputs": [],
   "source": [
    "df_clean.week = df_clean.week.astype('int64')"
   ]
  },
  {
   "cell_type": "code",
   "execution_count": 35,
   "id": "ab3b2026-bdf2-415b-a8ef-58424c01fd2a",
   "metadata": {},
   "outputs": [
    {
     "data": {
      "text/html": [
       "<div>\n",
       "<style scoped>\n",
       "    .dataframe tbody tr th:only-of-type {\n",
       "        vertical-align: middle;\n",
       "    }\n",
       "\n",
       "    .dataframe tbody tr th {\n",
       "        vertical-align: top;\n",
       "    }\n",
       "\n",
       "    .dataframe thead th {\n",
       "        text-align: right;\n",
       "    }\n",
       "</style>\n",
       "<table border=\"1\" class=\"dataframe\">\n",
       "  <thead>\n",
       "    <tr style=\"text-align: right;\">\n",
       "      <th></th>\n",
       "      <th>Daily Time Spent on Site</th>\n",
       "      <th>Age</th>\n",
       "      <th>Area Income</th>\n",
       "      <th>Daily Internet Usage</th>\n",
       "      <th>Male</th>\n",
       "      <th>Timestamp</th>\n",
       "      <th>Clicked on Ad</th>\n",
       "      <th>city</th>\n",
       "      <th>province</th>\n",
       "      <th>category</th>\n",
       "      <th>month</th>\n",
       "      <th>year</th>\n",
       "      <th>week</th>\n",
       "      <th>day</th>\n",
       "    </tr>\n",
       "  </thead>\n",
       "  <tbody>\n",
       "    <tr>\n",
       "      <th>0</th>\n",
       "      <td>68.95</td>\n",
       "      <td>35</td>\n",
       "      <td>432837300.0</td>\n",
       "      <td>256.09</td>\n",
       "      <td>Perempuan</td>\n",
       "      <td>2016-03-27 00:53:00</td>\n",
       "      <td>No</td>\n",
       "      <td>Jakarta Timur</td>\n",
       "      <td>Daerah Khusus Ibukota Jakarta</td>\n",
       "      <td>Furniture</td>\n",
       "      <td>3</td>\n",
       "      <td>2016</td>\n",
       "      <td>12</td>\n",
       "      <td>27</td>\n",
       "    </tr>\n",
       "    <tr>\n",
       "      <th>1</th>\n",
       "      <td>80.23</td>\n",
       "      <td>31</td>\n",
       "      <td>479092950.0</td>\n",
       "      <td>193.77</td>\n",
       "      <td>Laki-Laki</td>\n",
       "      <td>2016-04-04 01:39:00</td>\n",
       "      <td>No</td>\n",
       "      <td>Denpasar</td>\n",
       "      <td>Bali</td>\n",
       "      <td>Food</td>\n",
       "      <td>4</td>\n",
       "      <td>2016</td>\n",
       "      <td>14</td>\n",
       "      <td>4</td>\n",
       "    </tr>\n",
       "    <tr>\n",
       "      <th>2</th>\n",
       "      <td>69.47</td>\n",
       "      <td>26</td>\n",
       "      <td>418501580.0</td>\n",
       "      <td>236.50</td>\n",
       "      <td>Perempuan</td>\n",
       "      <td>2016-03-13 20:35:00</td>\n",
       "      <td>No</td>\n",
       "      <td>Surabaya</td>\n",
       "      <td>Jawa Timur</td>\n",
       "      <td>Electronic</td>\n",
       "      <td>3</td>\n",
       "      <td>2016</td>\n",
       "      <td>10</td>\n",
       "      <td>13</td>\n",
       "    </tr>\n",
       "    <tr>\n",
       "      <th>3</th>\n",
       "      <td>74.15</td>\n",
       "      <td>29</td>\n",
       "      <td>383643260.0</td>\n",
       "      <td>245.89</td>\n",
       "      <td>Laki-Laki</td>\n",
       "      <td>2016-01-10 02:31:00</td>\n",
       "      <td>No</td>\n",
       "      <td>Batam</td>\n",
       "      <td>Kepulauan Riau</td>\n",
       "      <td>House</td>\n",
       "      <td>1</td>\n",
       "      <td>2016</td>\n",
       "      <td>1</td>\n",
       "      <td>10</td>\n",
       "    </tr>\n",
       "    <tr>\n",
       "      <th>4</th>\n",
       "      <td>68.37</td>\n",
       "      <td>35</td>\n",
       "      <td>517229930.0</td>\n",
       "      <td>225.58</td>\n",
       "      <td>Perempuan</td>\n",
       "      <td>2016-06-03 03:36:00</td>\n",
       "      <td>No</td>\n",
       "      <td>Medan</td>\n",
       "      <td>Sumatra Utara</td>\n",
       "      <td>Finance</td>\n",
       "      <td>6</td>\n",
       "      <td>2016</td>\n",
       "      <td>22</td>\n",
       "      <td>3</td>\n",
       "    </tr>\n",
       "  </tbody>\n",
       "</table>\n",
       "</div>"
      ],
      "text/plain": [
       "   Daily Time Spent on Site  Age  Area Income  Daily Internet Usage  \\\n",
       "0                     68.95   35  432837300.0                256.09   \n",
       "1                     80.23   31  479092950.0                193.77   \n",
       "2                     69.47   26  418501580.0                236.50   \n",
       "3                     74.15   29  383643260.0                245.89   \n",
       "4                     68.37   35  517229930.0                225.58   \n",
       "\n",
       "        Male           Timestamp Clicked on Ad           city  \\\n",
       "0  Perempuan 2016-03-27 00:53:00            No  Jakarta Timur   \n",
       "1  Laki-Laki 2016-04-04 01:39:00            No       Denpasar   \n",
       "2  Perempuan 2016-03-13 20:35:00            No       Surabaya   \n",
       "3  Laki-Laki 2016-01-10 02:31:00            No          Batam   \n",
       "4  Perempuan 2016-06-03 03:36:00            No          Medan   \n",
       "\n",
       "                        province    category  month  year  week  day  \n",
       "0  Daerah Khusus Ibukota Jakarta   Furniture      3  2016    12   27  \n",
       "1                           Bali        Food      4  2016    14    4  \n",
       "2                     Jawa Timur  Electronic      3  2016    10   13  \n",
       "3                 Kepulauan Riau       House      1  2016     1   10  \n",
       "4                  Sumatra Utara     Finance      6  2016    22    3  "
      ]
     },
     "execution_count": 35,
     "metadata": {},
     "output_type": "execute_result"
    }
   ],
   "source": [
    "df_clean.head()"
   ]
  },
  {
   "cell_type": "code",
   "execution_count": 36,
   "id": "9d87961c-679f-41cb-9576-323ae0abc9cb",
   "metadata": {},
   "outputs": [],
   "source": [
    "df_clean.replace('Daerah Khusus Ibukota Jakarta','DKI Jakarta',inplace=True)"
   ]
  },
  {
   "cell_type": "code",
   "execution_count": 37,
   "id": "77f4726c-c24d-402f-bb79-3de8df661949",
   "metadata": {},
   "outputs": [],
   "source": [
    "df_cleaned = df_clean.copy()"
   ]
  },
  {
   "cell_type": "markdown",
   "id": "b6ce4bb3-b8eb-4598-939d-ec5faa258027",
   "metadata": {},
   "source": [
    "## Feature Encoding"
   ]
  },
  {
   "cell_type": "code",
   "execution_count": 38,
   "id": "6024fc5b-9a1e-44f6-8ab1-8712832c55e5",
   "metadata": {},
   "outputs": [],
   "source": [
    "# Feature Encoding\n",
    "df_encode = df_cleaned.copy()"
   ]
  },
  {
   "cell_type": "code",
   "execution_count": 39,
   "id": "90968363-51a3-4922-8a93-208ab0c59bbc",
   "metadata": {},
   "outputs": [],
   "source": [
    "df_encode['Male'] = np.where(df_encode['Male'] == 'Laki-Laki',1,0)\n",
    "df_encode['Clicked on Ad'] = np.where(df_encode['Clicked on Ad'] == 'Yes',1,0)\n"
   ]
  },
  {
   "cell_type": "code",
   "execution_count": 40,
   "id": "31fa2eb0-2cd7-45d2-aa91-f3936b5ad9f1",
   "metadata": {},
   "outputs": [
    {
     "name": "stdout",
     "output_type": "stream",
     "text": [
      "[0 1]\n",
      "[0 1]\n"
     ]
    }
   ],
   "source": [
    "print(df_encode['Clicked on Ad'].unique())\n",
    "print(df_encode['Male'].unique())"
   ]
  },
  {
   "cell_type": "code",
   "execution_count": 41,
   "id": "20e63fc7-fd03-4fd9-b832-1234353e5a25",
   "metadata": {},
   "outputs": [],
   "source": [
    "# One Hot Encoding\n",
    "ohe_cols = ['province','category']"
   ]
  },
  {
   "cell_type": "code",
   "execution_count": 42,
   "id": "a145ef2d-68d0-4945-a2d3-4ecc2a055722",
   "metadata": {},
   "outputs": [],
   "source": [
    "for cat in ohe_cols:\n",
    "    onehots = pd.get_dummies(df_encode[cat],prefix = cat)\n",
    "    df_encode = df_encode.join(onehots)"
   ]
  },
  {
   "cell_type": "code",
   "execution_count": 43,
   "id": "26313f92-adb6-4d43-b98f-8e0d2b34b727",
   "metadata": {},
   "outputs": [
    {
     "data": {
      "text/plain": [
       "Index(['Daily Time Spent on Site', 'Age', 'Area Income',\n",
       "       'Daily Internet Usage', 'Male', 'Timestamp', 'Clicked on Ad', 'city',\n",
       "       'province', 'category', 'month', 'year', 'week', 'day', 'province_Bali',\n",
       "       'province_Banten', 'province_DKI Jakarta', 'province_Jawa Barat',\n",
       "       'province_Jawa Tengah', 'province_Jawa Timur',\n",
       "       'province_Kalimantan Barat', 'province_Kalimantan Selatan',\n",
       "       'province_Kalimantan Timur', 'province_Kepulauan Riau',\n",
       "       'province_Lampung', 'province_Riau', 'province_Sulawesi Selatan',\n",
       "       'province_Sumatra Barat', 'province_Sumatra Selatan',\n",
       "       'province_Sumatra Utara', 'category_Bank', 'category_Electronic',\n",
       "       'category_Fashion', 'category_Finance', 'category_Food',\n",
       "       'category_Furniture', 'category_Health', 'category_House',\n",
       "       'category_Otomotif', 'category_Travel'],\n",
       "      dtype='object')"
      ]
     },
     "execution_count": 43,
     "metadata": {},
     "output_type": "execute_result"
    }
   ],
   "source": [
    "df_encode.columns"
   ]
  },
  {
   "cell_type": "markdown",
   "id": "a126c51c-275f-401a-9a3c-9551f134bbf2",
   "metadata": {},
   "source": [
    "Drop kolom yang telah dilakukan feature encoding dan feature extraction"
   ]
  },
  {
   "cell_type": "code",
   "execution_count": 44,
   "id": "e2bfc34c-b15f-4010-ace2-09fbd9092b9f",
   "metadata": {},
   "outputs": [
    {
     "data": {
      "text/html": [
       "<div>\n",
       "<style scoped>\n",
       "    .dataframe tbody tr th:only-of-type {\n",
       "        vertical-align: middle;\n",
       "    }\n",
       "\n",
       "    .dataframe tbody tr th {\n",
       "        vertical-align: top;\n",
       "    }\n",
       "\n",
       "    .dataframe thead th {\n",
       "        text-align: right;\n",
       "    }\n",
       "</style>\n",
       "<table border=\"1\" class=\"dataframe\">\n",
       "  <thead>\n",
       "    <tr style=\"text-align: right;\">\n",
       "      <th></th>\n",
       "      <th>Daily Time Spent on Site</th>\n",
       "      <th>Age</th>\n",
       "      <th>Area Income</th>\n",
       "      <th>Daily Internet Usage</th>\n",
       "      <th>Male</th>\n",
       "      <th>Clicked on Ad</th>\n",
       "      <th>city</th>\n",
       "      <th>month</th>\n",
       "      <th>year</th>\n",
       "      <th>week</th>\n",
       "      <th>day</th>\n",
       "      <th>province_Bali</th>\n",
       "      <th>province_Banten</th>\n",
       "      <th>province_DKI Jakarta</th>\n",
       "      <th>province_Jawa Barat</th>\n",
       "      <th>province_Jawa Tengah</th>\n",
       "      <th>province_Jawa Timur</th>\n",
       "      <th>province_Kalimantan Barat</th>\n",
       "      <th>province_Kalimantan Selatan</th>\n",
       "      <th>province_Kalimantan Timur</th>\n",
       "      <th>province_Kepulauan Riau</th>\n",
       "      <th>province_Lampung</th>\n",
       "      <th>province_Riau</th>\n",
       "      <th>province_Sulawesi Selatan</th>\n",
       "      <th>province_Sumatra Barat</th>\n",
       "      <th>province_Sumatra Selatan</th>\n",
       "      <th>province_Sumatra Utara</th>\n",
       "      <th>category_Bank</th>\n",
       "      <th>category_Electronic</th>\n",
       "      <th>category_Fashion</th>\n",
       "      <th>category_Finance</th>\n",
       "      <th>category_Food</th>\n",
       "      <th>category_Furniture</th>\n",
       "      <th>category_Health</th>\n",
       "      <th>category_House</th>\n",
       "      <th>category_Otomotif</th>\n",
       "      <th>category_Travel</th>\n",
       "    </tr>\n",
       "  </thead>\n",
       "  <tbody>\n",
       "    <tr>\n",
       "      <th>0</th>\n",
       "      <td>68.95</td>\n",
       "      <td>35</td>\n",
       "      <td>432837300.0</td>\n",
       "      <td>256.09</td>\n",
       "      <td>0</td>\n",
       "      <td>0</td>\n",
       "      <td>Jakarta Timur</td>\n",
       "      <td>3</td>\n",
       "      <td>2016</td>\n",
       "      <td>12</td>\n",
       "      <td>27</td>\n",
       "      <td>0</td>\n",
       "      <td>0</td>\n",
       "      <td>1</td>\n",
       "      <td>0</td>\n",
       "      <td>0</td>\n",
       "      <td>0</td>\n",
       "      <td>0</td>\n",
       "      <td>0</td>\n",
       "      <td>0</td>\n",
       "      <td>0</td>\n",
       "      <td>0</td>\n",
       "      <td>0</td>\n",
       "      <td>0</td>\n",
       "      <td>0</td>\n",
       "      <td>0</td>\n",
       "      <td>0</td>\n",
       "      <td>0</td>\n",
       "      <td>0</td>\n",
       "      <td>0</td>\n",
       "      <td>0</td>\n",
       "      <td>0</td>\n",
       "      <td>1</td>\n",
       "      <td>0</td>\n",
       "      <td>0</td>\n",
       "      <td>0</td>\n",
       "      <td>0</td>\n",
       "    </tr>\n",
       "    <tr>\n",
       "      <th>1</th>\n",
       "      <td>80.23</td>\n",
       "      <td>31</td>\n",
       "      <td>479092950.0</td>\n",
       "      <td>193.77</td>\n",
       "      <td>1</td>\n",
       "      <td>0</td>\n",
       "      <td>Denpasar</td>\n",
       "      <td>4</td>\n",
       "      <td>2016</td>\n",
       "      <td>14</td>\n",
       "      <td>4</td>\n",
       "      <td>1</td>\n",
       "      <td>0</td>\n",
       "      <td>0</td>\n",
       "      <td>0</td>\n",
       "      <td>0</td>\n",
       "      <td>0</td>\n",
       "      <td>0</td>\n",
       "      <td>0</td>\n",
       "      <td>0</td>\n",
       "      <td>0</td>\n",
       "      <td>0</td>\n",
       "      <td>0</td>\n",
       "      <td>0</td>\n",
       "      <td>0</td>\n",
       "      <td>0</td>\n",
       "      <td>0</td>\n",
       "      <td>0</td>\n",
       "      <td>0</td>\n",
       "      <td>0</td>\n",
       "      <td>0</td>\n",
       "      <td>1</td>\n",
       "      <td>0</td>\n",
       "      <td>0</td>\n",
       "      <td>0</td>\n",
       "      <td>0</td>\n",
       "      <td>0</td>\n",
       "    </tr>\n",
       "    <tr>\n",
       "      <th>2</th>\n",
       "      <td>69.47</td>\n",
       "      <td>26</td>\n",
       "      <td>418501580.0</td>\n",
       "      <td>236.50</td>\n",
       "      <td>0</td>\n",
       "      <td>0</td>\n",
       "      <td>Surabaya</td>\n",
       "      <td>3</td>\n",
       "      <td>2016</td>\n",
       "      <td>10</td>\n",
       "      <td>13</td>\n",
       "      <td>0</td>\n",
       "      <td>0</td>\n",
       "      <td>0</td>\n",
       "      <td>0</td>\n",
       "      <td>0</td>\n",
       "      <td>1</td>\n",
       "      <td>0</td>\n",
       "      <td>0</td>\n",
       "      <td>0</td>\n",
       "      <td>0</td>\n",
       "      <td>0</td>\n",
       "      <td>0</td>\n",
       "      <td>0</td>\n",
       "      <td>0</td>\n",
       "      <td>0</td>\n",
       "      <td>0</td>\n",
       "      <td>0</td>\n",
       "      <td>1</td>\n",
       "      <td>0</td>\n",
       "      <td>0</td>\n",
       "      <td>0</td>\n",
       "      <td>0</td>\n",
       "      <td>0</td>\n",
       "      <td>0</td>\n",
       "      <td>0</td>\n",
       "      <td>0</td>\n",
       "    </tr>\n",
       "    <tr>\n",
       "      <th>3</th>\n",
       "      <td>74.15</td>\n",
       "      <td>29</td>\n",
       "      <td>383643260.0</td>\n",
       "      <td>245.89</td>\n",
       "      <td>1</td>\n",
       "      <td>0</td>\n",
       "      <td>Batam</td>\n",
       "      <td>1</td>\n",
       "      <td>2016</td>\n",
       "      <td>1</td>\n",
       "      <td>10</td>\n",
       "      <td>0</td>\n",
       "      <td>0</td>\n",
       "      <td>0</td>\n",
       "      <td>0</td>\n",
       "      <td>0</td>\n",
       "      <td>0</td>\n",
       "      <td>0</td>\n",
       "      <td>0</td>\n",
       "      <td>0</td>\n",
       "      <td>1</td>\n",
       "      <td>0</td>\n",
       "      <td>0</td>\n",
       "      <td>0</td>\n",
       "      <td>0</td>\n",
       "      <td>0</td>\n",
       "      <td>0</td>\n",
       "      <td>0</td>\n",
       "      <td>0</td>\n",
       "      <td>0</td>\n",
       "      <td>0</td>\n",
       "      <td>0</td>\n",
       "      <td>0</td>\n",
       "      <td>0</td>\n",
       "      <td>1</td>\n",
       "      <td>0</td>\n",
       "      <td>0</td>\n",
       "    </tr>\n",
       "    <tr>\n",
       "      <th>4</th>\n",
       "      <td>68.37</td>\n",
       "      <td>35</td>\n",
       "      <td>517229930.0</td>\n",
       "      <td>225.58</td>\n",
       "      <td>0</td>\n",
       "      <td>0</td>\n",
       "      <td>Medan</td>\n",
       "      <td>6</td>\n",
       "      <td>2016</td>\n",
       "      <td>22</td>\n",
       "      <td>3</td>\n",
       "      <td>0</td>\n",
       "      <td>0</td>\n",
       "      <td>0</td>\n",
       "      <td>0</td>\n",
       "      <td>0</td>\n",
       "      <td>0</td>\n",
       "      <td>0</td>\n",
       "      <td>0</td>\n",
       "      <td>0</td>\n",
       "      <td>0</td>\n",
       "      <td>0</td>\n",
       "      <td>0</td>\n",
       "      <td>0</td>\n",
       "      <td>0</td>\n",
       "      <td>0</td>\n",
       "      <td>1</td>\n",
       "      <td>0</td>\n",
       "      <td>0</td>\n",
       "      <td>0</td>\n",
       "      <td>1</td>\n",
       "      <td>0</td>\n",
       "      <td>0</td>\n",
       "      <td>0</td>\n",
       "      <td>0</td>\n",
       "      <td>0</td>\n",
       "      <td>0</td>\n",
       "    </tr>\n",
       "    <tr>\n",
       "      <th>...</th>\n",
       "      <td>...</td>\n",
       "      <td>...</td>\n",
       "      <td>...</td>\n",
       "      <td>...</td>\n",
       "      <td>...</td>\n",
       "      <td>...</td>\n",
       "      <td>...</td>\n",
       "      <td>...</td>\n",
       "      <td>...</td>\n",
       "      <td>...</td>\n",
       "      <td>...</td>\n",
       "      <td>...</td>\n",
       "      <td>...</td>\n",
       "      <td>...</td>\n",
       "      <td>...</td>\n",
       "      <td>...</td>\n",
       "      <td>...</td>\n",
       "      <td>...</td>\n",
       "      <td>...</td>\n",
       "      <td>...</td>\n",
       "      <td>...</td>\n",
       "      <td>...</td>\n",
       "      <td>...</td>\n",
       "      <td>...</td>\n",
       "      <td>...</td>\n",
       "      <td>...</td>\n",
       "      <td>...</td>\n",
       "      <td>...</td>\n",
       "      <td>...</td>\n",
       "      <td>...</td>\n",
       "      <td>...</td>\n",
       "      <td>...</td>\n",
       "      <td>...</td>\n",
       "      <td>...</td>\n",
       "      <td>...</td>\n",
       "      <td>...</td>\n",
       "      <td>...</td>\n",
       "    </tr>\n",
       "    <tr>\n",
       "      <th>995</th>\n",
       "      <td>72.97</td>\n",
       "      <td>30</td>\n",
       "      <td>499691990.0</td>\n",
       "      <td>208.58</td>\n",
       "      <td>1</td>\n",
       "      <td>1</td>\n",
       "      <td>Semarang</td>\n",
       "      <td>2</td>\n",
       "      <td>2016</td>\n",
       "      <td>6</td>\n",
       "      <td>11</td>\n",
       "      <td>0</td>\n",
       "      <td>0</td>\n",
       "      <td>0</td>\n",
       "      <td>0</td>\n",
       "      <td>1</td>\n",
       "      <td>0</td>\n",
       "      <td>0</td>\n",
       "      <td>0</td>\n",
       "      <td>0</td>\n",
       "      <td>0</td>\n",
       "      <td>0</td>\n",
       "      <td>0</td>\n",
       "      <td>0</td>\n",
       "      <td>0</td>\n",
       "      <td>0</td>\n",
       "      <td>0</td>\n",
       "      <td>0</td>\n",
       "      <td>0</td>\n",
       "      <td>0</td>\n",
       "      <td>1</td>\n",
       "      <td>0</td>\n",
       "      <td>0</td>\n",
       "      <td>0</td>\n",
       "      <td>0</td>\n",
       "      <td>0</td>\n",
       "      <td>0</td>\n",
       "    </tr>\n",
       "    <tr>\n",
       "      <th>996</th>\n",
       "      <td>51.30</td>\n",
       "      <td>45</td>\n",
       "      <td>474475190.0</td>\n",
       "      <td>134.42</td>\n",
       "      <td>1</td>\n",
       "      <td>1</td>\n",
       "      <td>Pakanbaru</td>\n",
       "      <td>4</td>\n",
       "      <td>2016</td>\n",
       "      <td>16</td>\n",
       "      <td>22</td>\n",
       "      <td>0</td>\n",
       "      <td>0</td>\n",
       "      <td>0</td>\n",
       "      <td>0</td>\n",
       "      <td>0</td>\n",
       "      <td>0</td>\n",
       "      <td>0</td>\n",
       "      <td>0</td>\n",
       "      <td>0</td>\n",
       "      <td>0</td>\n",
       "      <td>0</td>\n",
       "      <td>1</td>\n",
       "      <td>0</td>\n",
       "      <td>0</td>\n",
       "      <td>0</td>\n",
       "      <td>0</td>\n",
       "      <td>0</td>\n",
       "      <td>1</td>\n",
       "      <td>0</td>\n",
       "      <td>0</td>\n",
       "      <td>0</td>\n",
       "      <td>0</td>\n",
       "      <td>0</td>\n",
       "      <td>0</td>\n",
       "      <td>0</td>\n",
       "      <td>0</td>\n",
       "    </tr>\n",
       "    <tr>\n",
       "      <th>997</th>\n",
       "      <td>68.11</td>\n",
       "      <td>51</td>\n",
       "      <td>296910040.0</td>\n",
       "      <td>120.37</td>\n",
       "      <td>1</td>\n",
       "      <td>1</td>\n",
       "      <td>Samarinda</td>\n",
       "      <td>2</td>\n",
       "      <td>2016</td>\n",
       "      <td>5</td>\n",
       "      <td>1</td>\n",
       "      <td>0</td>\n",
       "      <td>0</td>\n",
       "      <td>0</td>\n",
       "      <td>0</td>\n",
       "      <td>0</td>\n",
       "      <td>0</td>\n",
       "      <td>0</td>\n",
       "      <td>0</td>\n",
       "      <td>1</td>\n",
       "      <td>0</td>\n",
       "      <td>0</td>\n",
       "      <td>0</td>\n",
       "      <td>0</td>\n",
       "      <td>0</td>\n",
       "      <td>0</td>\n",
       "      <td>0</td>\n",
       "      <td>0</td>\n",
       "      <td>0</td>\n",
       "      <td>0</td>\n",
       "      <td>0</td>\n",
       "      <td>0</td>\n",
       "      <td>0</td>\n",
       "      <td>0</td>\n",
       "      <td>0</td>\n",
       "      <td>0</td>\n",
       "      <td>1</td>\n",
       "    </tr>\n",
       "    <tr>\n",
       "      <th>998</th>\n",
       "      <td>55.55</td>\n",
       "      <td>19</td>\n",
       "      <td>293445530.0</td>\n",
       "      <td>187.95</td>\n",
       "      <td>0</td>\n",
       "      <td>0</td>\n",
       "      <td>Tangerang</td>\n",
       "      <td>3</td>\n",
       "      <td>2016</td>\n",
       "      <td>12</td>\n",
       "      <td>24</td>\n",
       "      <td>0</td>\n",
       "      <td>1</td>\n",
       "      <td>0</td>\n",
       "      <td>0</td>\n",
       "      <td>0</td>\n",
       "      <td>0</td>\n",
       "      <td>0</td>\n",
       "      <td>0</td>\n",
       "      <td>0</td>\n",
       "      <td>0</td>\n",
       "      <td>0</td>\n",
       "      <td>0</td>\n",
       "      <td>0</td>\n",
       "      <td>0</td>\n",
       "      <td>0</td>\n",
       "      <td>0</td>\n",
       "      <td>1</td>\n",
       "      <td>0</td>\n",
       "      <td>0</td>\n",
       "      <td>0</td>\n",
       "      <td>0</td>\n",
       "      <td>0</td>\n",
       "      <td>0</td>\n",
       "      <td>0</td>\n",
       "      <td>0</td>\n",
       "      <td>0</td>\n",
       "    </tr>\n",
       "    <tr>\n",
       "      <th>999</th>\n",
       "      <td>45.01</td>\n",
       "      <td>26</td>\n",
       "      <td>209130600.0</td>\n",
       "      <td>178.35</td>\n",
       "      <td>0</td>\n",
       "      <td>1</td>\n",
       "      <td>Serang</td>\n",
       "      <td>6</td>\n",
       "      <td>2016</td>\n",
       "      <td>22</td>\n",
       "      <td>3</td>\n",
       "      <td>0</td>\n",
       "      <td>1</td>\n",
       "      <td>0</td>\n",
       "      <td>0</td>\n",
       "      <td>0</td>\n",
       "      <td>0</td>\n",
       "      <td>0</td>\n",
       "      <td>0</td>\n",
       "      <td>0</td>\n",
       "      <td>0</td>\n",
       "      <td>0</td>\n",
       "      <td>0</td>\n",
       "      <td>0</td>\n",
       "      <td>0</td>\n",
       "      <td>0</td>\n",
       "      <td>0</td>\n",
       "      <td>0</td>\n",
       "      <td>0</td>\n",
       "      <td>0</td>\n",
       "      <td>0</td>\n",
       "      <td>0</td>\n",
       "      <td>0</td>\n",
       "      <td>0</td>\n",
       "      <td>0</td>\n",
       "      <td>0</td>\n",
       "      <td>1</td>\n",
       "    </tr>\n",
       "  </tbody>\n",
       "</table>\n",
       "<p>1000 rows × 37 columns</p>\n",
       "</div>"
      ],
      "text/plain": [
       "     Daily Time Spent on Site  Age  Area Income  Daily Internet Usage  Male  \\\n",
       "0                       68.95   35  432837300.0                256.09     0   \n",
       "1                       80.23   31  479092950.0                193.77     1   \n",
       "2                       69.47   26  418501580.0                236.50     0   \n",
       "3                       74.15   29  383643260.0                245.89     1   \n",
       "4                       68.37   35  517229930.0                225.58     0   \n",
       "..                        ...  ...          ...                   ...   ...   \n",
       "995                     72.97   30  499691990.0                208.58     1   \n",
       "996                     51.30   45  474475190.0                134.42     1   \n",
       "997                     68.11   51  296910040.0                120.37     1   \n",
       "998                     55.55   19  293445530.0                187.95     0   \n",
       "999                     45.01   26  209130600.0                178.35     0   \n",
       "\n",
       "     Clicked on Ad           city  month  year  week  day  province_Bali  \\\n",
       "0                0  Jakarta Timur      3  2016    12   27              0   \n",
       "1                0       Denpasar      4  2016    14    4              1   \n",
       "2                0       Surabaya      3  2016    10   13              0   \n",
       "3                0          Batam      1  2016     1   10              0   \n",
       "4                0          Medan      6  2016    22    3              0   \n",
       "..             ...            ...    ...   ...   ...  ...            ...   \n",
       "995              1       Semarang      2  2016     6   11              0   \n",
       "996              1      Pakanbaru      4  2016    16   22              0   \n",
       "997              1      Samarinda      2  2016     5    1              0   \n",
       "998              0      Tangerang      3  2016    12   24              0   \n",
       "999              1         Serang      6  2016    22    3              0   \n",
       "\n",
       "     province_Banten  province_DKI Jakarta  province_Jawa Barat  \\\n",
       "0                  0                     1                    0   \n",
       "1                  0                     0                    0   \n",
       "2                  0                     0                    0   \n",
       "3                  0                     0                    0   \n",
       "4                  0                     0                    0   \n",
       "..               ...                   ...                  ...   \n",
       "995                0                     0                    0   \n",
       "996                0                     0                    0   \n",
       "997                0                     0                    0   \n",
       "998                1                     0                    0   \n",
       "999                1                     0                    0   \n",
       "\n",
       "     province_Jawa Tengah  province_Jawa Timur  province_Kalimantan Barat  \\\n",
       "0                       0                    0                          0   \n",
       "1                       0                    0                          0   \n",
       "2                       0                    1                          0   \n",
       "3                       0                    0                          0   \n",
       "4                       0                    0                          0   \n",
       "..                    ...                  ...                        ...   \n",
       "995                     1                    0                          0   \n",
       "996                     0                    0                          0   \n",
       "997                     0                    0                          0   \n",
       "998                     0                    0                          0   \n",
       "999                     0                    0                          0   \n",
       "\n",
       "     province_Kalimantan Selatan  province_Kalimantan Timur  \\\n",
       "0                              0                          0   \n",
       "1                              0                          0   \n",
       "2                              0                          0   \n",
       "3                              0                          0   \n",
       "4                              0                          0   \n",
       "..                           ...                        ...   \n",
       "995                            0                          0   \n",
       "996                            0                          0   \n",
       "997                            0                          1   \n",
       "998                            0                          0   \n",
       "999                            0                          0   \n",
       "\n",
       "     province_Kepulauan Riau  province_Lampung  province_Riau  \\\n",
       "0                          0                 0              0   \n",
       "1                          0                 0              0   \n",
       "2                          0                 0              0   \n",
       "3                          1                 0              0   \n",
       "4                          0                 0              0   \n",
       "..                       ...               ...            ...   \n",
       "995                        0                 0              0   \n",
       "996                        0                 0              1   \n",
       "997                        0                 0              0   \n",
       "998                        0                 0              0   \n",
       "999                        0                 0              0   \n",
       "\n",
       "     province_Sulawesi Selatan  province_Sumatra Barat  \\\n",
       "0                            0                       0   \n",
       "1                            0                       0   \n",
       "2                            0                       0   \n",
       "3                            0                       0   \n",
       "4                            0                       0   \n",
       "..                         ...                     ...   \n",
       "995                          0                       0   \n",
       "996                          0                       0   \n",
       "997                          0                       0   \n",
       "998                          0                       0   \n",
       "999                          0                       0   \n",
       "\n",
       "     province_Sumatra Selatan  province_Sumatra Utara  category_Bank  \\\n",
       "0                           0                       0              0   \n",
       "1                           0                       0              0   \n",
       "2                           0                       0              0   \n",
       "3                           0                       0              0   \n",
       "4                           0                       1              0   \n",
       "..                        ...                     ...            ...   \n",
       "995                         0                       0              0   \n",
       "996                         0                       0              0   \n",
       "997                         0                       0              0   \n",
       "998                         0                       0              1   \n",
       "999                         0                       0              0   \n",
       "\n",
       "     category_Electronic  category_Fashion  category_Finance  category_Food  \\\n",
       "0                      0                 0                 0              0   \n",
       "1                      0                 0                 0              1   \n",
       "2                      1                 0                 0              0   \n",
       "3                      0                 0                 0              0   \n",
       "4                      0                 0                 1              0   \n",
       "..                   ...               ...               ...            ...   \n",
       "995                    0                 0                 1              0   \n",
       "996                    1                 0                 0              0   \n",
       "997                    0                 0                 0              0   \n",
       "998                    0                 0                 0              0   \n",
       "999                    0                 0                 0              0   \n",
       "\n",
       "     category_Furniture  category_Health  category_House  category_Otomotif  \\\n",
       "0                     1                0               0                  0   \n",
       "1                     0                0               0                  0   \n",
       "2                     0                0               0                  0   \n",
       "3                     0                0               1                  0   \n",
       "4                     0                0               0                  0   \n",
       "..                  ...              ...             ...                ...   \n",
       "995                   0                0               0                  0   \n",
       "996                   0                0               0                  0   \n",
       "997                   0                0               0                  0   \n",
       "998                   0                0               0                  0   \n",
       "999                   0                0               0                  0   \n",
       "\n",
       "     category_Travel  \n",
       "0                  0  \n",
       "1                  0  \n",
       "2                  0  \n",
       "3                  0  \n",
       "4                  0  \n",
       "..               ...  \n",
       "995                0  \n",
       "996                0  \n",
       "997                1  \n",
       "998                0  \n",
       "999                1  \n",
       "\n",
       "[1000 rows x 37 columns]"
      ]
     },
     "execution_count": 44,
     "metadata": {},
     "output_type": "execute_result"
    }
   ],
   "source": [
    "df_encode = df_encode.drop(columns = ['Timestamp','province','category'])\n",
    "df_encode"
   ]
  },
  {
   "cell_type": "markdown",
   "id": "de6155a8-1621-4979-907b-7d6699ea53c7",
   "metadata": {},
   "source": [
    "Drop fitur `year` karena hanya memiliki 1 unique value saja dan fitur `city` memiliki jumlah unique value yang terlalu banyak dan sudah digantikan dengan `province`"
   ]
  },
  {
   "cell_type": "code",
   "execution_count": 45,
   "id": "a06f1f9b-05d2-49e2-8c25-d3ac8f7bcc30",
   "metadata": {},
   "outputs": [
    {
     "data": {
      "text/html": [
       "<div>\n",
       "<style scoped>\n",
       "    .dataframe tbody tr th:only-of-type {\n",
       "        vertical-align: middle;\n",
       "    }\n",
       "\n",
       "    .dataframe tbody tr th {\n",
       "        vertical-align: top;\n",
       "    }\n",
       "\n",
       "    .dataframe thead th {\n",
       "        text-align: right;\n",
       "    }\n",
       "</style>\n",
       "<table border=\"1\" class=\"dataframe\">\n",
       "  <thead>\n",
       "    <tr style=\"text-align: right;\">\n",
       "      <th></th>\n",
       "      <th>Daily Time Spent on Site</th>\n",
       "      <th>Age</th>\n",
       "      <th>Area Income</th>\n",
       "      <th>Daily Internet Usage</th>\n",
       "      <th>Male</th>\n",
       "      <th>Clicked on Ad</th>\n",
       "      <th>month</th>\n",
       "      <th>week</th>\n",
       "      <th>day</th>\n",
       "      <th>province_Bali</th>\n",
       "      <th>province_Banten</th>\n",
       "      <th>province_DKI Jakarta</th>\n",
       "      <th>province_Jawa Barat</th>\n",
       "      <th>province_Jawa Tengah</th>\n",
       "      <th>province_Jawa Timur</th>\n",
       "      <th>province_Kalimantan Barat</th>\n",
       "      <th>province_Kalimantan Selatan</th>\n",
       "      <th>province_Kalimantan Timur</th>\n",
       "      <th>province_Kepulauan Riau</th>\n",
       "      <th>province_Lampung</th>\n",
       "      <th>province_Riau</th>\n",
       "      <th>province_Sulawesi Selatan</th>\n",
       "      <th>province_Sumatra Barat</th>\n",
       "      <th>province_Sumatra Selatan</th>\n",
       "      <th>province_Sumatra Utara</th>\n",
       "      <th>category_Bank</th>\n",
       "      <th>category_Electronic</th>\n",
       "      <th>category_Fashion</th>\n",
       "      <th>category_Finance</th>\n",
       "      <th>category_Food</th>\n",
       "      <th>category_Furniture</th>\n",
       "      <th>category_Health</th>\n",
       "      <th>category_House</th>\n",
       "      <th>category_Otomotif</th>\n",
       "      <th>category_Travel</th>\n",
       "    </tr>\n",
       "  </thead>\n",
       "  <tbody>\n",
       "    <tr>\n",
       "      <th>0</th>\n",
       "      <td>68.95</td>\n",
       "      <td>35</td>\n",
       "      <td>432837300.0</td>\n",
       "      <td>256.09</td>\n",
       "      <td>0</td>\n",
       "      <td>0</td>\n",
       "      <td>3</td>\n",
       "      <td>12</td>\n",
       "      <td>27</td>\n",
       "      <td>0</td>\n",
       "      <td>0</td>\n",
       "      <td>1</td>\n",
       "      <td>0</td>\n",
       "      <td>0</td>\n",
       "      <td>0</td>\n",
       "      <td>0</td>\n",
       "      <td>0</td>\n",
       "      <td>0</td>\n",
       "      <td>0</td>\n",
       "      <td>0</td>\n",
       "      <td>0</td>\n",
       "      <td>0</td>\n",
       "      <td>0</td>\n",
       "      <td>0</td>\n",
       "      <td>0</td>\n",
       "      <td>0</td>\n",
       "      <td>0</td>\n",
       "      <td>0</td>\n",
       "      <td>0</td>\n",
       "      <td>0</td>\n",
       "      <td>1</td>\n",
       "      <td>0</td>\n",
       "      <td>0</td>\n",
       "      <td>0</td>\n",
       "      <td>0</td>\n",
       "    </tr>\n",
       "    <tr>\n",
       "      <th>1</th>\n",
       "      <td>80.23</td>\n",
       "      <td>31</td>\n",
       "      <td>479092950.0</td>\n",
       "      <td>193.77</td>\n",
       "      <td>1</td>\n",
       "      <td>0</td>\n",
       "      <td>4</td>\n",
       "      <td>14</td>\n",
       "      <td>4</td>\n",
       "      <td>1</td>\n",
       "      <td>0</td>\n",
       "      <td>0</td>\n",
       "      <td>0</td>\n",
       "      <td>0</td>\n",
       "      <td>0</td>\n",
       "      <td>0</td>\n",
       "      <td>0</td>\n",
       "      <td>0</td>\n",
       "      <td>0</td>\n",
       "      <td>0</td>\n",
       "      <td>0</td>\n",
       "      <td>0</td>\n",
       "      <td>0</td>\n",
       "      <td>0</td>\n",
       "      <td>0</td>\n",
       "      <td>0</td>\n",
       "      <td>0</td>\n",
       "      <td>0</td>\n",
       "      <td>0</td>\n",
       "      <td>1</td>\n",
       "      <td>0</td>\n",
       "      <td>0</td>\n",
       "      <td>0</td>\n",
       "      <td>0</td>\n",
       "      <td>0</td>\n",
       "    </tr>\n",
       "    <tr>\n",
       "      <th>2</th>\n",
       "      <td>69.47</td>\n",
       "      <td>26</td>\n",
       "      <td>418501580.0</td>\n",
       "      <td>236.50</td>\n",
       "      <td>0</td>\n",
       "      <td>0</td>\n",
       "      <td>3</td>\n",
       "      <td>10</td>\n",
       "      <td>13</td>\n",
       "      <td>0</td>\n",
       "      <td>0</td>\n",
       "      <td>0</td>\n",
       "      <td>0</td>\n",
       "      <td>0</td>\n",
       "      <td>1</td>\n",
       "      <td>0</td>\n",
       "      <td>0</td>\n",
       "      <td>0</td>\n",
       "      <td>0</td>\n",
       "      <td>0</td>\n",
       "      <td>0</td>\n",
       "      <td>0</td>\n",
       "      <td>0</td>\n",
       "      <td>0</td>\n",
       "      <td>0</td>\n",
       "      <td>0</td>\n",
       "      <td>1</td>\n",
       "      <td>0</td>\n",
       "      <td>0</td>\n",
       "      <td>0</td>\n",
       "      <td>0</td>\n",
       "      <td>0</td>\n",
       "      <td>0</td>\n",
       "      <td>0</td>\n",
       "      <td>0</td>\n",
       "    </tr>\n",
       "    <tr>\n",
       "      <th>3</th>\n",
       "      <td>74.15</td>\n",
       "      <td>29</td>\n",
       "      <td>383643260.0</td>\n",
       "      <td>245.89</td>\n",
       "      <td>1</td>\n",
       "      <td>0</td>\n",
       "      <td>1</td>\n",
       "      <td>1</td>\n",
       "      <td>10</td>\n",
       "      <td>0</td>\n",
       "      <td>0</td>\n",
       "      <td>0</td>\n",
       "      <td>0</td>\n",
       "      <td>0</td>\n",
       "      <td>0</td>\n",
       "      <td>0</td>\n",
       "      <td>0</td>\n",
       "      <td>0</td>\n",
       "      <td>1</td>\n",
       "      <td>0</td>\n",
       "      <td>0</td>\n",
       "      <td>0</td>\n",
       "      <td>0</td>\n",
       "      <td>0</td>\n",
       "      <td>0</td>\n",
       "      <td>0</td>\n",
       "      <td>0</td>\n",
       "      <td>0</td>\n",
       "      <td>0</td>\n",
       "      <td>0</td>\n",
       "      <td>0</td>\n",
       "      <td>0</td>\n",
       "      <td>1</td>\n",
       "      <td>0</td>\n",
       "      <td>0</td>\n",
       "    </tr>\n",
       "    <tr>\n",
       "      <th>4</th>\n",
       "      <td>68.37</td>\n",
       "      <td>35</td>\n",
       "      <td>517229930.0</td>\n",
       "      <td>225.58</td>\n",
       "      <td>0</td>\n",
       "      <td>0</td>\n",
       "      <td>6</td>\n",
       "      <td>22</td>\n",
       "      <td>3</td>\n",
       "      <td>0</td>\n",
       "      <td>0</td>\n",
       "      <td>0</td>\n",
       "      <td>0</td>\n",
       "      <td>0</td>\n",
       "      <td>0</td>\n",
       "      <td>0</td>\n",
       "      <td>0</td>\n",
       "      <td>0</td>\n",
       "      <td>0</td>\n",
       "      <td>0</td>\n",
       "      <td>0</td>\n",
       "      <td>0</td>\n",
       "      <td>0</td>\n",
       "      <td>0</td>\n",
       "      <td>1</td>\n",
       "      <td>0</td>\n",
       "      <td>0</td>\n",
       "      <td>0</td>\n",
       "      <td>1</td>\n",
       "      <td>0</td>\n",
       "      <td>0</td>\n",
       "      <td>0</td>\n",
       "      <td>0</td>\n",
       "      <td>0</td>\n",
       "      <td>0</td>\n",
       "    </tr>\n",
       "    <tr>\n",
       "      <th>...</th>\n",
       "      <td>...</td>\n",
       "      <td>...</td>\n",
       "      <td>...</td>\n",
       "      <td>...</td>\n",
       "      <td>...</td>\n",
       "      <td>...</td>\n",
       "      <td>...</td>\n",
       "      <td>...</td>\n",
       "      <td>...</td>\n",
       "      <td>...</td>\n",
       "      <td>...</td>\n",
       "      <td>...</td>\n",
       "      <td>...</td>\n",
       "      <td>...</td>\n",
       "      <td>...</td>\n",
       "      <td>...</td>\n",
       "      <td>...</td>\n",
       "      <td>...</td>\n",
       "      <td>...</td>\n",
       "      <td>...</td>\n",
       "      <td>...</td>\n",
       "      <td>...</td>\n",
       "      <td>...</td>\n",
       "      <td>...</td>\n",
       "      <td>...</td>\n",
       "      <td>...</td>\n",
       "      <td>...</td>\n",
       "      <td>...</td>\n",
       "      <td>...</td>\n",
       "      <td>...</td>\n",
       "      <td>...</td>\n",
       "      <td>...</td>\n",
       "      <td>...</td>\n",
       "      <td>...</td>\n",
       "      <td>...</td>\n",
       "    </tr>\n",
       "    <tr>\n",
       "      <th>995</th>\n",
       "      <td>72.97</td>\n",
       "      <td>30</td>\n",
       "      <td>499691990.0</td>\n",
       "      <td>208.58</td>\n",
       "      <td>1</td>\n",
       "      <td>1</td>\n",
       "      <td>2</td>\n",
       "      <td>6</td>\n",
       "      <td>11</td>\n",
       "      <td>0</td>\n",
       "      <td>0</td>\n",
       "      <td>0</td>\n",
       "      <td>0</td>\n",
       "      <td>1</td>\n",
       "      <td>0</td>\n",
       "      <td>0</td>\n",
       "      <td>0</td>\n",
       "      <td>0</td>\n",
       "      <td>0</td>\n",
       "      <td>0</td>\n",
       "      <td>0</td>\n",
       "      <td>0</td>\n",
       "      <td>0</td>\n",
       "      <td>0</td>\n",
       "      <td>0</td>\n",
       "      <td>0</td>\n",
       "      <td>0</td>\n",
       "      <td>0</td>\n",
       "      <td>1</td>\n",
       "      <td>0</td>\n",
       "      <td>0</td>\n",
       "      <td>0</td>\n",
       "      <td>0</td>\n",
       "      <td>0</td>\n",
       "      <td>0</td>\n",
       "    </tr>\n",
       "    <tr>\n",
       "      <th>996</th>\n",
       "      <td>51.30</td>\n",
       "      <td>45</td>\n",
       "      <td>474475190.0</td>\n",
       "      <td>134.42</td>\n",
       "      <td>1</td>\n",
       "      <td>1</td>\n",
       "      <td>4</td>\n",
       "      <td>16</td>\n",
       "      <td>22</td>\n",
       "      <td>0</td>\n",
       "      <td>0</td>\n",
       "      <td>0</td>\n",
       "      <td>0</td>\n",
       "      <td>0</td>\n",
       "      <td>0</td>\n",
       "      <td>0</td>\n",
       "      <td>0</td>\n",
       "      <td>0</td>\n",
       "      <td>0</td>\n",
       "      <td>0</td>\n",
       "      <td>1</td>\n",
       "      <td>0</td>\n",
       "      <td>0</td>\n",
       "      <td>0</td>\n",
       "      <td>0</td>\n",
       "      <td>0</td>\n",
       "      <td>1</td>\n",
       "      <td>0</td>\n",
       "      <td>0</td>\n",
       "      <td>0</td>\n",
       "      <td>0</td>\n",
       "      <td>0</td>\n",
       "      <td>0</td>\n",
       "      <td>0</td>\n",
       "      <td>0</td>\n",
       "    </tr>\n",
       "    <tr>\n",
       "      <th>997</th>\n",
       "      <td>68.11</td>\n",
       "      <td>51</td>\n",
       "      <td>296910040.0</td>\n",
       "      <td>120.37</td>\n",
       "      <td>1</td>\n",
       "      <td>1</td>\n",
       "      <td>2</td>\n",
       "      <td>5</td>\n",
       "      <td>1</td>\n",
       "      <td>0</td>\n",
       "      <td>0</td>\n",
       "      <td>0</td>\n",
       "      <td>0</td>\n",
       "      <td>0</td>\n",
       "      <td>0</td>\n",
       "      <td>0</td>\n",
       "      <td>0</td>\n",
       "      <td>1</td>\n",
       "      <td>0</td>\n",
       "      <td>0</td>\n",
       "      <td>0</td>\n",
       "      <td>0</td>\n",
       "      <td>0</td>\n",
       "      <td>0</td>\n",
       "      <td>0</td>\n",
       "      <td>0</td>\n",
       "      <td>0</td>\n",
       "      <td>0</td>\n",
       "      <td>0</td>\n",
       "      <td>0</td>\n",
       "      <td>0</td>\n",
       "      <td>0</td>\n",
       "      <td>0</td>\n",
       "      <td>0</td>\n",
       "      <td>1</td>\n",
       "    </tr>\n",
       "    <tr>\n",
       "      <th>998</th>\n",
       "      <td>55.55</td>\n",
       "      <td>19</td>\n",
       "      <td>293445530.0</td>\n",
       "      <td>187.95</td>\n",
       "      <td>0</td>\n",
       "      <td>0</td>\n",
       "      <td>3</td>\n",
       "      <td>12</td>\n",
       "      <td>24</td>\n",
       "      <td>0</td>\n",
       "      <td>1</td>\n",
       "      <td>0</td>\n",
       "      <td>0</td>\n",
       "      <td>0</td>\n",
       "      <td>0</td>\n",
       "      <td>0</td>\n",
       "      <td>0</td>\n",
       "      <td>0</td>\n",
       "      <td>0</td>\n",
       "      <td>0</td>\n",
       "      <td>0</td>\n",
       "      <td>0</td>\n",
       "      <td>0</td>\n",
       "      <td>0</td>\n",
       "      <td>0</td>\n",
       "      <td>1</td>\n",
       "      <td>0</td>\n",
       "      <td>0</td>\n",
       "      <td>0</td>\n",
       "      <td>0</td>\n",
       "      <td>0</td>\n",
       "      <td>0</td>\n",
       "      <td>0</td>\n",
       "      <td>0</td>\n",
       "      <td>0</td>\n",
       "    </tr>\n",
       "    <tr>\n",
       "      <th>999</th>\n",
       "      <td>45.01</td>\n",
       "      <td>26</td>\n",
       "      <td>209130600.0</td>\n",
       "      <td>178.35</td>\n",
       "      <td>0</td>\n",
       "      <td>1</td>\n",
       "      <td>6</td>\n",
       "      <td>22</td>\n",
       "      <td>3</td>\n",
       "      <td>0</td>\n",
       "      <td>1</td>\n",
       "      <td>0</td>\n",
       "      <td>0</td>\n",
       "      <td>0</td>\n",
       "      <td>0</td>\n",
       "      <td>0</td>\n",
       "      <td>0</td>\n",
       "      <td>0</td>\n",
       "      <td>0</td>\n",
       "      <td>0</td>\n",
       "      <td>0</td>\n",
       "      <td>0</td>\n",
       "      <td>0</td>\n",
       "      <td>0</td>\n",
       "      <td>0</td>\n",
       "      <td>0</td>\n",
       "      <td>0</td>\n",
       "      <td>0</td>\n",
       "      <td>0</td>\n",
       "      <td>0</td>\n",
       "      <td>0</td>\n",
       "      <td>0</td>\n",
       "      <td>0</td>\n",
       "      <td>0</td>\n",
       "      <td>1</td>\n",
       "    </tr>\n",
       "  </tbody>\n",
       "</table>\n",
       "<p>1000 rows × 35 columns</p>\n",
       "</div>"
      ],
      "text/plain": [
       "     Daily Time Spent on Site  Age  Area Income  Daily Internet Usage  Male  \\\n",
       "0                       68.95   35  432837300.0                256.09     0   \n",
       "1                       80.23   31  479092950.0                193.77     1   \n",
       "2                       69.47   26  418501580.0                236.50     0   \n",
       "3                       74.15   29  383643260.0                245.89     1   \n",
       "4                       68.37   35  517229930.0                225.58     0   \n",
       "..                        ...  ...          ...                   ...   ...   \n",
       "995                     72.97   30  499691990.0                208.58     1   \n",
       "996                     51.30   45  474475190.0                134.42     1   \n",
       "997                     68.11   51  296910040.0                120.37     1   \n",
       "998                     55.55   19  293445530.0                187.95     0   \n",
       "999                     45.01   26  209130600.0                178.35     0   \n",
       "\n",
       "     Clicked on Ad  month  week  day  province_Bali  province_Banten  \\\n",
       "0                0      3    12   27              0                0   \n",
       "1                0      4    14    4              1                0   \n",
       "2                0      3    10   13              0                0   \n",
       "3                0      1     1   10              0                0   \n",
       "4                0      6    22    3              0                0   \n",
       "..             ...    ...   ...  ...            ...              ...   \n",
       "995              1      2     6   11              0                0   \n",
       "996              1      4    16   22              0                0   \n",
       "997              1      2     5    1              0                0   \n",
       "998              0      3    12   24              0                1   \n",
       "999              1      6    22    3              0                1   \n",
       "\n",
       "     province_DKI Jakarta  province_Jawa Barat  province_Jawa Tengah  \\\n",
       "0                       1                    0                     0   \n",
       "1                       0                    0                     0   \n",
       "2                       0                    0                     0   \n",
       "3                       0                    0                     0   \n",
       "4                       0                    0                     0   \n",
       "..                    ...                  ...                   ...   \n",
       "995                     0                    0                     1   \n",
       "996                     0                    0                     0   \n",
       "997                     0                    0                     0   \n",
       "998                     0                    0                     0   \n",
       "999                     0                    0                     0   \n",
       "\n",
       "     province_Jawa Timur  province_Kalimantan Barat  \\\n",
       "0                      0                          0   \n",
       "1                      0                          0   \n",
       "2                      1                          0   \n",
       "3                      0                          0   \n",
       "4                      0                          0   \n",
       "..                   ...                        ...   \n",
       "995                    0                          0   \n",
       "996                    0                          0   \n",
       "997                    0                          0   \n",
       "998                    0                          0   \n",
       "999                    0                          0   \n",
       "\n",
       "     province_Kalimantan Selatan  province_Kalimantan Timur  \\\n",
       "0                              0                          0   \n",
       "1                              0                          0   \n",
       "2                              0                          0   \n",
       "3                              0                          0   \n",
       "4                              0                          0   \n",
       "..                           ...                        ...   \n",
       "995                            0                          0   \n",
       "996                            0                          0   \n",
       "997                            0                          1   \n",
       "998                            0                          0   \n",
       "999                            0                          0   \n",
       "\n",
       "     province_Kepulauan Riau  province_Lampung  province_Riau  \\\n",
       "0                          0                 0              0   \n",
       "1                          0                 0              0   \n",
       "2                          0                 0              0   \n",
       "3                          1                 0              0   \n",
       "4                          0                 0              0   \n",
       "..                       ...               ...            ...   \n",
       "995                        0                 0              0   \n",
       "996                        0                 0              1   \n",
       "997                        0                 0              0   \n",
       "998                        0                 0              0   \n",
       "999                        0                 0              0   \n",
       "\n",
       "     province_Sulawesi Selatan  province_Sumatra Barat  \\\n",
       "0                            0                       0   \n",
       "1                            0                       0   \n",
       "2                            0                       0   \n",
       "3                            0                       0   \n",
       "4                            0                       0   \n",
       "..                         ...                     ...   \n",
       "995                          0                       0   \n",
       "996                          0                       0   \n",
       "997                          0                       0   \n",
       "998                          0                       0   \n",
       "999                          0                       0   \n",
       "\n",
       "     province_Sumatra Selatan  province_Sumatra Utara  category_Bank  \\\n",
       "0                           0                       0              0   \n",
       "1                           0                       0              0   \n",
       "2                           0                       0              0   \n",
       "3                           0                       0              0   \n",
       "4                           0                       1              0   \n",
       "..                        ...                     ...            ...   \n",
       "995                         0                       0              0   \n",
       "996                         0                       0              0   \n",
       "997                         0                       0              0   \n",
       "998                         0                       0              1   \n",
       "999                         0                       0              0   \n",
       "\n",
       "     category_Electronic  category_Fashion  category_Finance  category_Food  \\\n",
       "0                      0                 0                 0              0   \n",
       "1                      0                 0                 0              1   \n",
       "2                      1                 0                 0              0   \n",
       "3                      0                 0                 0              0   \n",
       "4                      0                 0                 1              0   \n",
       "..                   ...               ...               ...            ...   \n",
       "995                    0                 0                 1              0   \n",
       "996                    1                 0                 0              0   \n",
       "997                    0                 0                 0              0   \n",
       "998                    0                 0                 0              0   \n",
       "999                    0                 0                 0              0   \n",
       "\n",
       "     category_Furniture  category_Health  category_House  category_Otomotif  \\\n",
       "0                     1                0               0                  0   \n",
       "1                     0                0               0                  0   \n",
       "2                     0                0               0                  0   \n",
       "3                     0                0               1                  0   \n",
       "4                     0                0               0                  0   \n",
       "..                  ...              ...             ...                ...   \n",
       "995                   0                0               0                  0   \n",
       "996                   0                0               0                  0   \n",
       "997                   0                0               0                  0   \n",
       "998                   0                0               0                  0   \n",
       "999                   0                0               0                  0   \n",
       "\n",
       "     category_Travel  \n",
       "0                  0  \n",
       "1                  0  \n",
       "2                  0  \n",
       "3                  0  \n",
       "4                  0  \n",
       "..               ...  \n",
       "995                0  \n",
       "996                0  \n",
       "997                1  \n",
       "998                0  \n",
       "999                1  \n",
       "\n",
       "[1000 rows x 35 columns]"
      ]
     },
     "execution_count": 45,
     "metadata": {},
     "output_type": "execute_result"
    }
   ],
   "source": [
    "df_encode = df_encode.drop(columns = ['year','city'])\n",
    "df_encode"
   ]
  },
  {
   "cell_type": "code",
   "execution_count": 46,
   "id": "7ff54264-2160-4931-81e0-9604f0ad5c2f",
   "metadata": {},
   "outputs": [],
   "source": [
    "df_encoded = df_encode.copy()"
   ]
  },
  {
   "cell_type": "markdown",
   "id": "04d8d7f9-fca3-4f19-88a4-7fb1e87a555e",
   "metadata": {},
   "source": [
    "## Split Feature and Target"
   ]
  },
  {
   "cell_type": "code",
   "execution_count": 47,
   "id": "345ef12a-6095-4010-bd1e-470ff52fcdd7",
   "metadata": {},
   "outputs": [],
   "source": [
    "df_model = df_encoded.copy()"
   ]
  },
  {
   "cell_type": "code",
   "execution_count": 48,
   "id": "b2a0035f-fdb4-41b3-be1a-169cd4d8ef2d",
   "metadata": {},
   "outputs": [
    {
     "data": {
      "text/plain": [
       "0    500\n",
       "1    500\n",
       "Name: Clicked on Ad, dtype: int64"
      ]
     },
     "execution_count": 48,
     "metadata": {},
     "output_type": "execute_result"
    }
   ],
   "source": [
    "df_model['Clicked on Ad'].value_counts()"
   ]
  },
  {
   "cell_type": "code",
   "execution_count": 49,
   "id": "38307577-ced2-4fb3-8ce1-c6095223129f",
   "metadata": {},
   "outputs": [],
   "source": [
    "X = df_model.drop(columns = ['Clicked on Ad'])\n",
    "y = df_model['Clicked on Ad']"
   ]
  },
  {
   "cell_type": "markdown",
   "id": "975d3b42-4712-4330-aa17-d0e0034546f0",
   "metadata": {},
   "source": [
    "Tidak handle imbalance data karena jumlah sudah seimbang"
   ]
  },
  {
   "cell_type": "markdown",
   "id": "21c78d4f-169b-49f6-81c5-f2c5bd49a64a",
   "metadata": {},
   "source": [
    "## Split Data Into Train set and Test set"
   ]
  },
  {
   "cell_type": "code",
   "execution_count": 50,
   "id": "e89c1f2d-c94f-47e5-9343-b87b3c912188",
   "metadata": {},
   "outputs": [],
   "source": [
    "X1 = X.copy()\n",
    "y1 = y.copy()\n",
    "X2 = X.copy()\n",
    "y2 = y.copy()"
   ]
  },
  {
   "cell_type": "markdown",
   "id": "0483bc1c-b993-40b8-b51c-72b6e76e0d33",
   "metadata": {},
   "source": [
    "# Experiment 1"
   ]
  },
  {
   "cell_type": "markdown",
   "id": "f73663e3-93e1-45b8-9022-dd061735aa35",
   "metadata": {},
   "source": [
    "### Split Train 70% dan Test 30%"
   ]
  },
  {
   "cell_type": "code",
   "execution_count": 51,
   "id": "8610cd58-0252-472b-89d5-f741b0b1490c",
   "metadata": {},
   "outputs": [],
   "source": [
    "from sklearn.model_selection import train_test_split \n",
    "#70 : 30\n",
    "X1_train1, X1_test1, y1_train1, y1_test1 = train_test_split(X1,y1,test_size=0.3, random_state=24)\n",
    "# 80 : 20\n",
    "X1_train2, X1_test2, y1_train2, y1_test2 = train_test_split(X1,y1,test_size=0.2, random_state=24)\n"
   ]
  },
  {
   "cell_type": "code",
   "execution_count": 52,
   "id": "c2e8e418-5a60-41a7-8f1a-28482dcd5197",
   "metadata": {},
   "outputs": [
    {
     "name": "stdout",
     "output_type": "stream",
     "text": [
      "Split into 70:30\n",
      "Total rows & column of train set: (700, 34)\n",
      "Total rows & column of test set: (300, 34)\n",
      "\n",
      "Split into 80:20\n",
      "Total rows & column of train set: (800, 34)\n",
      "Total rows & column of test set: (200, 34)\n"
     ]
    }
   ],
   "source": [
    "\n",
    "print('Split into 70:30')\n",
    "print('Total rows & column of train set:',X1_train1.shape)\n",
    "print('Total rows & column of test set:',X1_test1.shape)\n",
    "print('\\nSplit into 80:20')\n",
    "print('Total rows & column of train set:',X1_train2.shape)\n",
    "print('Total rows & column of test set:',X1_test2.shape)"
   ]
  },
  {
   "cell_type": "markdown",
   "id": "7a2c626d-973a-4318-9571-722fa1731ff5",
   "metadata": {},
   "source": [
    "## Machine Learning model before normalization/standarization"
   ]
  },
  {
   "cell_type": "code",
   "execution_count": 85,
   "id": "125a2417-4a9a-4684-bc2e-570f2fd9c2b7",
   "metadata": {},
   "outputs": [],
   "source": [
    "from sklearn.metrics import accuracy_score, precision_score, recall_score, f1_score\n",
    "from sklearn.metrics import roc_curve, auc\n",
    "\n",
    "def eval_classification(model,  y_train_pred, y_test_pred, y_train, y_test):\n",
    "    print(\"Accuracy (Train Set): %.2f\" % accuracy_score(y_train, y_train_pred))\n",
    "    print(\"Accuracy (Test Set): %.2f\" % accuracy_score(y_test, y_test_pred))\n",
    "    print(\"Precision (Train Set): %.2f\" % precision_score(y_train, y_train_pred, zero_division=0))\n",
    "    print(\"Precision (Test Set): %.2f\" % precision_score(y_test, y_test_pred, zero_division=0))\n",
    "    print(\"Recall (Train Set): %.2f\" % recall_score(y_train, y_train_pred))\n",
    "    print(\"Recall (Test Set): %.2f\" % recall_score(y_test, y_test_pred))\n",
    "    print(\"F1-Score (Train Set): %.2f\" % f1_score(y_train, y_train_pred))\n",
    "    print(\"F1-Score (Test Set): %.2f\" % f1_score(y_test, y_test_pred))\n",
    "    \n",
    "    fpr, tpr, thresholds = roc_curve(y_train, y_train_pred, pos_label=1) \n",
    "    print(\"AUC (Train Set): %.2f\" % auc(fpr, tpr))\n",
    "    fpr, tpr, thresholds = roc_curve(y_test, y_pred, pos_label=1) \n",
    "    print(\"AUC (Test Set): %.2f\" % auc(fpr, tpr))\n",
    "\n",
    "# confusion matrix\n",
    "def plot_confusion_matrix(cm,\n",
    "                          target_names,\n",
    "                          title='Confusion matrix',\n",
    "                          cmap=None,\n",
    "                          normalize=True):\n",
    "    import matplotlib.pyplot as plt\n",
    "    import numpy as np\n",
    "    import itertools\n",
    "\n",
    "    accuracy = np.trace(cm) / np.sum(cm).astype('float')\n",
    "    misclass = 1 - accuracy\n",
    "\n",
    "    if cmap is None:\n",
    "        cmap = plt.get_cmap('Blues')\n",
    "\n",
    "    plt.figure(figsize=(8, 6))\n",
    "    plt.imshow(cm, interpolation='nearest', cmap=cmap)\n",
    "    plt.title(title)\n",
    "    plt.colorbar()\n",
    "\n",
    "    if target_names is not None:\n",
    "        tick_marks = np.arange(len(target_names))\n",
    "        plt.xticks(tick_marks, target_names, rotation=45)\n",
    "        plt.yticks(tick_marks, target_names)\n",
    "\n",
    "    if normalize:\n",
    "        cm = cm.astype('float') / cm.sum(axis=1)[:, np.newaxis]\n",
    "\n",
    "\n",
    "    thresh = cm.max() / 1.5 if normalize else cm.max() / 2\n",
    "    for i, j in itertools.product(range(cm.shape[0]), range(cm.shape[1])):\n",
    "        if normalize:\n",
    "            plt.text(j, i, \"{:0.4f}\".format(cm[i, j]),\n",
    "                     horizontalalignment=\"center\",\n",
    "                     color=\"white\" if cm[i, j] > thresh else \"black\")\n",
    "        else:\n",
    "            plt.text(j, i, \"{:,}\".format(cm[i, j]),\n",
    "                     horizontalalignment=\"center\",\n",
    "                     color=\"white\" if cm[i, j] > thresh else \"black\")\n",
    "\n",
    "\n",
    "    plt.tight_layout()\n",
    "    plt.ylabel('True label')\n",
    "    plt.xlabel('Predicted label\\naccuracy={:0.4f}; misclass={:0.4f}'.format(accuracy, misclass))\n",
    "    plt.show()"
   ]
  },
  {
   "cell_type": "markdown",
   "id": "95da4623-060b-4445-bb79-6a9494ddc5f2",
   "metadata": {},
   "source": [
    "#### 70% : 30%"
   ]
  },
  {
   "cell_type": "markdown",
   "id": "3fc7a3a2-3933-4ecd-9cba-6994e09e4f37",
   "metadata": {},
   "source": [
    "### Logistic Regression"
   ]
  },
  {
   "cell_type": "code",
   "execution_count": 54,
   "id": "24a55eac-8db9-419b-9c41-46fce894742c",
   "metadata": {},
   "outputs": [
    {
     "name": "stdout",
     "output_type": "stream",
     "text": [
      "Accuracy (Train Set): 0.50\n",
      "Accuracy (Test Set): 0.50\n",
      "Precision (Train Set): 0.00\n",
      "Precision (Test Set): 0.00\n",
      "Recall (Train Set): 0.00\n",
      "Recall (Test Set): 0.00\n",
      "F1-Score (Train Set): 0.00\n",
      "F1-Score (Test Set): 0.00\n",
      "AUC (Train Set): 0.50\n",
      "AUC (Test Set): 0.50\n"
     ]
    }
   ],
   "source": [
    "logreg = LogisticRegression(random_state=24)\n",
    "logreg.fit(X1_train1,y1_train1)\n",
    "\n",
    "y_train_pred = logreg.predict(X1_train1)\n",
    "y_pred = logreg.predict(X1_test1)\n",
    "eval_classification(logreg,y_train_pred,y_pred,y1_train1,y1_test1)"
   ]
  },
  {
   "cell_type": "markdown",
   "id": "d16378ba-3c0c-4727-82a8-9353b56103ad",
   "metadata": {},
   "source": [
    "### Decision Tree"
   ]
  },
  {
   "cell_type": "code",
   "execution_count": 55,
   "id": "600a4642-3779-47df-b54d-7c9b5a03f068",
   "metadata": {},
   "outputs": [
    {
     "name": "stdout",
     "output_type": "stream",
     "text": [
      "Accuracy (Train Set): 1.00\n",
      "Accuracy (Test Set): 0.90\n",
      "Precision (Train Set): 1.00\n",
      "Precision (Test Set): 0.88\n",
      "Recall (Train Set): 1.00\n",
      "Recall (Test Set): 0.93\n",
      "F1-Score (Train Set): 1.00\n",
      "F1-Score (Test Set): 0.90\n",
      "AUC (Train Set): 1.00\n",
      "AUC (Test Set): 0.90\n"
     ]
    }
   ],
   "source": [
    "dtc = DecisionTreeClassifier(random_state=24)\n",
    "dtc.fit(X1_train1,y1_train1)\n",
    "\n",
    "y_train_pred = dtc.predict(X1_train1)\n",
    "y_pred = dtc.predict(X1_test1)\n",
    "eval_classification(dtc,y_train_pred,y_pred,y1_train1,y1_test1)"
   ]
  },
  {
   "cell_type": "markdown",
   "id": "4f5b3f18-6ea1-404c-8290-fd26ae205b92",
   "metadata": {},
   "source": [
    "### Random Forest"
   ]
  },
  {
   "cell_type": "code",
   "execution_count": 56,
   "id": "5e2ea0c3-08ad-4edd-9479-f7512a15cf9e",
   "metadata": {},
   "outputs": [
    {
     "name": "stdout",
     "output_type": "stream",
     "text": [
      "Accuracy (Train Set): 1.00\n",
      "Accuracy (Test Set): 0.95\n",
      "Precision (Train Set): 1.00\n",
      "Precision (Test Set): 0.94\n",
      "Recall (Train Set): 1.00\n",
      "Recall (Test Set): 0.96\n",
      "F1-Score (Train Set): 1.00\n",
      "F1-Score (Test Set): 0.95\n",
      "AUC (Train Set): 1.00\n",
      "AUC (Test Set): 0.95\n"
     ]
    }
   ],
   "source": [
    "rfc = RandomForestClassifier(random_state=24)\n",
    "rfc.fit(X1_train1,y1_train1)\n",
    "\n",
    "y_train_pred = rfc.predict(X1_train1)\n",
    "y_pred = rfc.predict(X1_test1)\n",
    "eval_classification(rfc,y_train_pred,y_pred,y1_train1,y1_test1)"
   ]
  },
  {
   "cell_type": "markdown",
   "id": "d11f6122-3404-4b1c-b136-5e1fc0de40ee",
   "metadata": {},
   "source": [
    "#### AdaBoost"
   ]
  },
  {
   "cell_type": "code",
   "execution_count": 57,
   "id": "af895c6e-1a00-4e1f-aa14-0bbdac685a75",
   "metadata": {},
   "outputs": [
    {
     "name": "stdout",
     "output_type": "stream",
     "text": [
      "Accuracy (Train Set): 1.00\n",
      "Accuracy (Test Set): 0.94\n",
      "Precision (Train Set): 1.00\n",
      "Precision (Test Set): 0.94\n",
      "Recall (Train Set): 0.99\n",
      "Recall (Test Set): 0.93\n",
      "F1-Score (Train Set): 1.00\n",
      "F1-Score (Test Set): 0.94\n",
      "AUC (Train Set): 1.00\n",
      "AUC (Test Set): 0.94\n"
     ]
    }
   ],
   "source": [
    "ab = AdaBoostClassifier(random_state=24)\n",
    "ab.fit(X1_train1,y1_train1)\n",
    "\n",
    "y_train_pred = ab.predict(X1_train1)\n",
    "y_pred = ab.predict(X1_test1)\n",
    "eval_classification(ab,y_train_pred,y_pred,y1_train1,y1_test1)"
   ]
  },
  {
   "cell_type": "markdown",
   "id": "bea17390-daba-429a-bc42-4148358e0d45",
   "metadata": {},
   "source": [
    "### Gradient Boosting"
   ]
  },
  {
   "cell_type": "code",
   "execution_count": 58,
   "id": "9360c886-80b4-4019-8661-8ce0f072b39e",
   "metadata": {},
   "outputs": [
    {
     "name": "stdout",
     "output_type": "stream",
     "text": [
      "Accuracy (Train Set): 1.00\n",
      "Accuracy (Test Set): 0.95\n",
      "Precision (Train Set): 1.00\n",
      "Precision (Test Set): 0.94\n",
      "Recall (Train Set): 1.00\n",
      "Recall (Test Set): 0.96\n",
      "F1-Score (Train Set): 1.00\n",
      "F1-Score (Test Set): 0.95\n",
      "AUC (Train Set): 1.00\n",
      "AUC (Test Set): 0.95\n"
     ]
    }
   ],
   "source": [
    "gbc = GradientBoostingClassifier(random_state=24)\n",
    "gbc.fit(X1_train1,y1_train1)\n",
    "\n",
    "y_train_pred = gbc.predict(X1_train1)\n",
    "y_pred = gbc.predict(X1_test1)\n",
    "eval_classification(gbc,y_train_pred,y_pred,y1_train1,y1_test1)"
   ]
  },
  {
   "cell_type": "code",
   "execution_count": 59,
   "id": "8ad725f3-97ae-4505-a042-e2bdd4cc5910",
   "metadata": {},
   "outputs": [
    {
     "name": "stdout",
     "output_type": "stream",
     "text": [
      "Accuracy (Train Set): 1.00\n",
      "Accuracy (Test Set): 0.95\n",
      "Precision (Train Set): 1.00\n",
      "Precision (Test Set): 0.95\n",
      "Recall (Train Set): 1.00\n",
      "Recall (Test Set): 0.96\n",
      "F1-Score (Train Set): 1.00\n",
      "F1-Score (Test Set): 0.95\n",
      "AUC (Train Set): 1.00\n",
      "AUC (Test Set): 0.95\n"
     ]
    }
   ],
   "source": [
    "from xgboost import XGBClassifier, XGBRegressor\n",
    "xg = XGBClassifier(random_state=24)\n",
    "xg.fit(X1_train1, y1_train1)\n",
    "\n",
    "y_train_pred = xg.predict(X1_train1)\n",
    "y_pred = xg.predict(X1_test1)\n",
    "eval_classification(xg,y_train_pred,y_pred,y1_train1,y1_test1)"
   ]
  },
  {
   "cell_type": "markdown",
   "id": "ab143ed8-c219-450c-9465-44709b8555e3",
   "metadata": {},
   "source": [
    "#### 80% : 20%"
   ]
  },
  {
   "cell_type": "markdown",
   "id": "199e9ceb-2721-4796-bb4f-7854ed039bba",
   "metadata": {},
   "source": [
    "### Logistic Regression"
   ]
  },
  {
   "cell_type": "code",
   "execution_count": 60,
   "id": "e2842a51-d0eb-45e9-b567-ac7767e8801f",
   "metadata": {},
   "outputs": [
    {
     "name": "stdout",
     "output_type": "stream",
     "text": [
      "Accuracy (Train Set): 0.50\n",
      "Accuracy (Test Set): 0.50\n",
      "Precision (Train Set): 0.00\n",
      "Precision (Test Set): 0.00\n",
      "Recall (Train Set): 0.00\n",
      "Recall (Test Set): 0.00\n",
      "F1-Score (Train Set): 0.00\n",
      "F1-Score (Test Set): 0.00\n",
      "AUC (Train Set): 0.50\n",
      "AUC (Test Set): 0.50\n"
     ]
    }
   ],
   "source": [
    "logreg = LogisticRegression(random_state=24)\n",
    "logreg.fit(X1_train2,y1_train2)\n",
    "\n",
    "y_train_pred = logreg.predict(X1_train2)\n",
    "y_pred = logreg.predict(X1_test2)\n",
    "eval_classification(logreg,y_train_pred,y_pred,y1_train2,y1_test2)"
   ]
  },
  {
   "cell_type": "markdown",
   "id": "ed638908-3143-436d-90c3-93509789a3aa",
   "metadata": {},
   "source": [
    "### Decision Tree"
   ]
  },
  {
   "cell_type": "code",
   "execution_count": 61,
   "id": "0401446b-cdb8-4ff1-a756-b247184c8556",
   "metadata": {},
   "outputs": [
    {
     "name": "stdout",
     "output_type": "stream",
     "text": [
      "Accuracy (Train Set): 1.00\n",
      "Accuracy (Test Set): 0.93\n",
      "Precision (Train Set): 1.00\n",
      "Precision (Test Set): 0.91\n",
      "Recall (Train Set): 1.00\n",
      "Recall (Test Set): 0.94\n",
      "F1-Score (Train Set): 1.00\n",
      "F1-Score (Test Set): 0.93\n",
      "AUC (Train Set): 1.00\n",
      "AUC (Test Set): 0.93\n"
     ]
    }
   ],
   "source": [
    "dtc = DecisionTreeClassifier(random_state=24)\n",
    "dtc.fit(X1_train2,y1_train2)\n",
    "\n",
    "y_train_pred = dtc.predict(X1_train2)\n",
    "y_pred = dtc.predict(X1_test2)\n",
    "eval_classification(dtc,y_train_pred,y_pred,y1_train2,y1_test2)"
   ]
  },
  {
   "cell_type": "markdown",
   "id": "45b43348-ee41-4da4-a42c-9df22c6d8e2b",
   "metadata": {},
   "source": [
    "### Random Forest"
   ]
  },
  {
   "cell_type": "code",
   "execution_count": 62,
   "id": "07266921-cd97-4aa9-8cd2-aedf237e6c59",
   "metadata": {},
   "outputs": [
    {
     "name": "stdout",
     "output_type": "stream",
     "text": [
      "Accuracy (Train Set): 1.00\n",
      "Accuracy (Test Set): 0.95\n",
      "Precision (Train Set): 1.00\n",
      "Precision (Test Set): 0.95\n",
      "Recall (Train Set): 1.00\n",
      "Recall (Test Set): 0.95\n",
      "F1-Score (Train Set): 1.00\n",
      "F1-Score (Test Set): 0.95\n",
      "AUC (Train Set): 1.00\n",
      "AUC (Test Set): 0.95\n"
     ]
    }
   ],
   "source": [
    "rfc = RandomForestClassifier(random_state=24)\n",
    "rfc.fit(X1_train2,y1_train2)\n",
    "\n",
    "y_train_pred = rfc.predict(X1_train2)\n",
    "y_pred = rfc.predict(X1_test2)\n",
    "eval_classification(rfc,y_train_pred,y_pred,y1_train2,y1_test2)"
   ]
  },
  {
   "cell_type": "markdown",
   "id": "88cdd0ed-7455-44d0-acd7-f126cb14e9c2",
   "metadata": {},
   "source": [
    "#### AdaBoost"
   ]
  },
  {
   "cell_type": "code",
   "execution_count": 63,
   "id": "50f9481b-1484-4fb9-9cdc-df9e161a7d2d",
   "metadata": {},
   "outputs": [
    {
     "name": "stdout",
     "output_type": "stream",
     "text": [
      "Accuracy (Train Set): 0.99\n",
      "Accuracy (Test Set): 0.95\n",
      "Precision (Train Set): 1.00\n",
      "Precision (Test Set): 0.95\n",
      "Recall (Train Set): 0.99\n",
      "Recall (Test Set): 0.96\n",
      "F1-Score (Train Set): 0.99\n",
      "F1-Score (Test Set): 0.96\n",
      "AUC (Train Set): 0.99\n",
      "AUC (Test Set): 0.95\n"
     ]
    }
   ],
   "source": [
    "ab = AdaBoostClassifier(random_state=24)\n",
    "ab.fit(X1_train2,y1_train2)\n",
    "\n",
    "y_train_pred = ab.predict(X1_train2)\n",
    "y_pred = ab.predict(X1_test2)\n",
    "eval_classification(ab,y_train_pred,y_pred,y1_train2,y1_test2)"
   ]
  },
  {
   "cell_type": "markdown",
   "id": "275eba1f-2695-430e-8726-05a9a8278eb1",
   "metadata": {},
   "source": [
    "### Gradient Boosting"
   ]
  },
  {
   "cell_type": "code",
   "execution_count": 64,
   "id": "521ab237-5649-4139-8e4a-acebdba8adc9",
   "metadata": {},
   "outputs": [
    {
     "name": "stdout",
     "output_type": "stream",
     "text": [
      "Accuracy (Train Set): 1.00\n",
      "Accuracy (Test Set): 0.95\n",
      "Precision (Train Set): 1.00\n",
      "Precision (Test Set): 0.95\n",
      "Recall (Train Set): 1.00\n",
      "Recall (Test Set): 0.96\n",
      "F1-Score (Train Set): 1.00\n",
      "F1-Score (Test Set): 0.96\n",
      "AUC (Train Set): 1.00\n",
      "AUC (Test Set): 0.95\n"
     ]
    }
   ],
   "source": [
    "gbc = GradientBoostingClassifier(random_state=24)\n",
    "gbc.fit(X1_train2,y1_train2)\n",
    "\n",
    "y_train_pred = gbc.predict(X1_train2)\n",
    "y_pred = gbc.predict(X1_test2)\n",
    "eval_classification(gbc,y_train_pred,y_pred,y1_train2,y1_test2)"
   ]
  },
  {
   "cell_type": "code",
   "execution_count": 65,
   "id": "6353f593-39f5-45ab-a3c3-8f2c6ab00f38",
   "metadata": {},
   "outputs": [
    {
     "name": "stdout",
     "output_type": "stream",
     "text": [
      "Accuracy (Train Set): 1.00\n",
      "Accuracy (Test Set): 0.94\n",
      "Precision (Train Set): 1.00\n",
      "Precision (Test Set): 0.95\n",
      "Recall (Train Set): 1.00\n",
      "Recall (Test Set): 0.94\n",
      "F1-Score (Train Set): 1.00\n",
      "F1-Score (Test Set): 0.94\n",
      "AUC (Train Set): 1.00\n",
      "AUC (Test Set): 0.94\n"
     ]
    }
   ],
   "source": [
    "from xgboost import XGBClassifier, XGBRegressor\n",
    "xg = XGBClassifier(random_state=24)\n",
    "xg.fit(X1_train2, y1_train2)\n",
    "\n",
    "y_train_pred = xg.predict(X1_train2)\n",
    "y_pred = xg.predict(X1_test2)\n",
    "eval_classification(xg,y_train_pred,y_pred,y1_train2,y1_test2)"
   ]
  },
  {
   "cell_type": "markdown",
   "id": "f9dffc39-83e3-4045-84be-f81bf23d6fa2",
   "metadata": {},
   "source": [
    "# Experiment 2"
   ]
  },
  {
   "cell_type": "code",
   "execution_count": 66,
   "id": "8bb1d982-03cf-4f7b-a36a-2944fa916245",
   "metadata": {},
   "outputs": [],
   "source": [
    "to_std = ['Daily Time Spent on Site','Age','Area Income','Daily Internet Usage','month','week','day']\n",
    "ss = StandardScaler()\n",
    "\n",
    "for col in to_std :\n",
    "    X2[col] = ss.fit_transform(X2[[col]])"
   ]
  },
  {
   "cell_type": "markdown",
   "id": "27c3ae62-244a-46bd-a571-a204236b0513",
   "metadata": {},
   "source": [
    "### Split Train 70% dan Test 30%"
   ]
  },
  {
   "cell_type": "code",
   "execution_count": 67,
   "id": "a0eb33ef-6fdc-47fc-8752-f52990a93162",
   "metadata": {},
   "outputs": [],
   "source": [
    "from sklearn.model_selection import train_test_split \n",
    "#70 : 30\n",
    "X2_train1, X2_test1, y2_train1, y2_test1 = train_test_split(X2,y2,test_size=0.3, random_state=24)\n",
    "# 80 : 20\n",
    "X2_train2, X2_test2, y2_train2, y2_test2 = train_test_split(X2,y2,test_size=0.2, random_state=24)\n"
   ]
  },
  {
   "cell_type": "code",
   "execution_count": 68,
   "id": "2e84b87e-2982-449b-905e-be4f046a150d",
   "metadata": {},
   "outputs": [
    {
     "name": "stdout",
     "output_type": "stream",
     "text": [
      "Split into 70:30\n",
      "Total rows & column of train set: (700, 34)\n",
      "Total rows & column of test set: (300, 34)\n",
      "\n",
      "Split into 80:20\n",
      "Total rows & column of train set: (800, 34)\n",
      "Total rows & column of test set: (200, 34)\n"
     ]
    }
   ],
   "source": [
    "\n",
    "print('Split into 70:30')\n",
    "print('Total rows & column of train set:',X2_train1.shape)\n",
    "print('Total rows & column of test set:',X2_test1.shape)\n",
    "print('\\nSplit into 80:20')\n",
    "print('Total rows & column of train set:',X2_train2.shape)\n",
    "print('Total rows & column of test set:',X2_test2.shape)"
   ]
  },
  {
   "cell_type": "markdown",
   "id": "9030d67e-7598-43e4-bf4d-ef920499250e",
   "metadata": {},
   "source": [
    "## Machine Learning model After normalization/standarization"
   ]
  },
  {
   "cell_type": "markdown",
   "id": "03ea70f5-5e93-4f3b-bafe-95dd20881881",
   "metadata": {},
   "source": [
    "#### 70% : 30%"
   ]
  },
  {
   "cell_type": "markdown",
   "id": "47564fff-b8e9-41e1-be07-43650e1d5fd9",
   "metadata": {},
   "source": [
    "### Logistic Regression"
   ]
  },
  {
   "cell_type": "code",
   "execution_count": 69,
   "id": "55362372-67b5-422b-bf6d-9cf880814e31",
   "metadata": {},
   "outputs": [
    {
     "name": "stdout",
     "output_type": "stream",
     "text": [
      "Accuracy (Train Set): 0.98\n",
      "Accuracy (Test Set): 0.96\n",
      "Precision (Train Set): 0.99\n",
      "Precision (Test Set): 0.95\n",
      "Recall (Train Set): 0.97\n",
      "Recall (Test Set): 0.96\n",
      "F1-Score (Train Set): 0.98\n",
      "F1-Score (Test Set): 0.96\n",
      "AUC (Train Set): 0.98\n",
      "AUC (Test Set): 0.96\n"
     ]
    }
   ],
   "source": [
    "logreg = LogisticRegression(random_state=24)\n",
    "logreg.fit(X2_train1,y2_train1)\n",
    "\n",
    "y_train_pred = logreg.predict(X2_train1)\n",
    "y_pred = logreg.predict(X2_test1)\n",
    "eval_classification(logreg,y_train_pred,y_pred,y2_train1,y2_test1)"
   ]
  },
  {
   "cell_type": "markdown",
   "id": "7992b19a-8b63-416f-a312-3310d99d2868",
   "metadata": {},
   "source": [
    "### Decision Tree"
   ]
  },
  {
   "cell_type": "code",
   "execution_count": 70,
   "id": "db99abe3-861e-4b47-a818-023f17acb309",
   "metadata": {},
   "outputs": [
    {
     "name": "stdout",
     "output_type": "stream",
     "text": [
      "Accuracy (Train Set): 1.00\n",
      "Accuracy (Test Set): 0.90\n",
      "Precision (Train Set): 1.00\n",
      "Precision (Test Set): 0.88\n",
      "Recall (Train Set): 1.00\n",
      "Recall (Test Set): 0.93\n",
      "F1-Score (Train Set): 1.00\n",
      "F1-Score (Test Set): 0.90\n",
      "AUC (Train Set): 1.00\n",
      "AUC (Test Set): 0.90\n"
     ]
    }
   ],
   "source": [
    "dtc = DecisionTreeClassifier(random_state=24)\n",
    "dtc.fit(X2_train1,y2_train1)\n",
    "\n",
    "y_train_pred = dtc.predict(X2_train1)\n",
    "y_pred = dtc.predict(X2_test1)\n",
    "eval_classification(dtc,y_train_pred,y_pred,y2_train1,y2_test1)"
   ]
  },
  {
   "cell_type": "markdown",
   "id": "142b22cd-61cb-4424-8f9b-8b4bb6a92106",
   "metadata": {},
   "source": [
    "### Random Forest"
   ]
  },
  {
   "cell_type": "code",
   "execution_count": 71,
   "id": "061c88a7-151a-4e32-bcc1-cd822a845951",
   "metadata": {},
   "outputs": [
    {
     "name": "stdout",
     "output_type": "stream",
     "text": [
      "Accuracy (Train Set): 1.00\n",
      "Accuracy (Test Set): 0.95\n",
      "Precision (Train Set): 1.00\n",
      "Precision (Test Set): 0.94\n",
      "Recall (Train Set): 1.00\n",
      "Recall (Test Set): 0.96\n",
      "F1-Score (Train Set): 1.00\n",
      "F1-Score (Test Set): 0.95\n",
      "AUC (Train Set): 1.00\n",
      "AUC (Test Set): 0.95\n"
     ]
    }
   ],
   "source": [
    "rfc = RandomForestClassifier(random_state=24)\n",
    "rfc.fit(X2_train1,y2_train1)\n",
    "\n",
    "y_train_pred = rfc.predict(X2_train1)\n",
    "y_pred = rfc.predict(X2_test1)\n",
    "eval_classification(rfc,y_train_pred,y_pred,y2_train1,y2_test1)"
   ]
  },
  {
   "cell_type": "markdown",
   "id": "0f41cc09-272a-42ab-9cee-a8b628e04bfd",
   "metadata": {},
   "source": [
    "#### AdaBoost"
   ]
  },
  {
   "cell_type": "code",
   "execution_count": 72,
   "id": "b8faae89-c4f5-4b2a-bcf3-981f23287a4b",
   "metadata": {},
   "outputs": [
    {
     "name": "stdout",
     "output_type": "stream",
     "text": [
      "Accuracy (Train Set): 1.00\n",
      "Accuracy (Test Set): 0.94\n",
      "Precision (Train Set): 1.00\n",
      "Precision (Test Set): 0.94\n",
      "Recall (Train Set): 0.99\n",
      "Recall (Test Set): 0.93\n",
      "F1-Score (Train Set): 1.00\n",
      "F1-Score (Test Set): 0.94\n",
      "AUC (Train Set): 1.00\n",
      "AUC (Test Set): 0.94\n"
     ]
    }
   ],
   "source": [
    "ab = AdaBoostClassifier(random_state=24)\n",
    "ab.fit(X2_train1,y2_train1)\n",
    "\n",
    "y_train_pred = ab.predict(X2_train1)\n",
    "y_pred = ab.predict(X2_test1)\n",
    "eval_classification(ab,y_train_pred,y_pred,y2_train1,y2_test1)"
   ]
  },
  {
   "cell_type": "markdown",
   "id": "00eafe0a-d6dd-4abd-984a-2f283b703a70",
   "metadata": {},
   "source": [
    "### Gradient Boosting"
   ]
  },
  {
   "cell_type": "code",
   "execution_count": 73,
   "id": "bedf6f65-5c65-49ed-86fa-15ddd1208d8d",
   "metadata": {},
   "outputs": [
    {
     "name": "stdout",
     "output_type": "stream",
     "text": [
      "Accuracy (Train Set): 1.00\n",
      "Accuracy (Test Set): 0.95\n",
      "Precision (Train Set): 1.00\n",
      "Precision (Test Set): 0.94\n",
      "Recall (Train Set): 1.00\n",
      "Recall (Test Set): 0.96\n",
      "F1-Score (Train Set): 1.00\n",
      "F1-Score (Test Set): 0.95\n",
      "AUC (Train Set): 1.00\n",
      "AUC (Test Set): 0.95\n"
     ]
    }
   ],
   "source": [
    "gbc = GradientBoostingClassifier(random_state=24)\n",
    "gbc.fit(X2_train1,y2_train1)\n",
    "\n",
    "y_train_pred = gbc.predict(X2_train1)\n",
    "y_pred = gbc.predict(X2_test1)\n",
    "eval_classification(gbc,y_train_pred,y_pred,y2_train1,y2_test1)"
   ]
  },
  {
   "cell_type": "code",
   "execution_count": 74,
   "id": "66f41c21-f438-4125-a296-1fd0728d636a",
   "metadata": {},
   "outputs": [
    {
     "name": "stdout",
     "output_type": "stream",
     "text": [
      "Accuracy (Train Set): 1.00\n",
      "Accuracy (Test Set): 0.95\n",
      "Precision (Train Set): 1.00\n",
      "Precision (Test Set): 0.95\n",
      "Recall (Train Set): 1.00\n",
      "Recall (Test Set): 0.96\n",
      "F1-Score (Train Set): 1.00\n",
      "F1-Score (Test Set): 0.95\n",
      "AUC (Train Set): 1.00\n",
      "AUC (Test Set): 0.95\n"
     ]
    }
   ],
   "source": [
    "from xgboost import XGBClassifier, XGBRegressor\n",
    "xg = XGBClassifier(random_state=24)\n",
    "xg.fit(X2_train1, y2_train1)\n",
    "\n",
    "y_train_pred = xg.predict(X2_train1)\n",
    "y_pred = xg.predict(X2_test1)\n",
    "eval_classification(xg,y_train_pred,y_pred,y2_train1,y2_test1)"
   ]
  },
  {
   "cell_type": "markdown",
   "id": "8aaef551-fce9-43f0-8618-11c345797138",
   "metadata": {},
   "source": [
    "#### 80% : 20%"
   ]
  },
  {
   "cell_type": "markdown",
   "id": "611c0667-416c-4f2b-ba73-c8dd66b294e0",
   "metadata": {},
   "source": [
    "### Logistic Regression"
   ]
  },
  {
   "cell_type": "code",
   "execution_count": 75,
   "id": "7d4aee5c-a112-499b-be26-65d3e8e328d0",
   "metadata": {},
   "outputs": [
    {
     "name": "stdout",
     "output_type": "stream",
     "text": [
      "Accuracy (Train Set): 0.97\n",
      "Accuracy (Test Set): 0.95\n",
      "Precision (Train Set): 0.98\n",
      "Precision (Test Set): 0.95\n",
      "Recall (Train Set): 0.97\n",
      "Recall (Test Set): 0.96\n",
      "F1-Score (Train Set): 0.97\n",
      "F1-Score (Test Set): 0.96\n",
      "AUC (Train Set): 0.98\n",
      "AUC (Test Set): 0.95\n"
     ]
    }
   ],
   "source": [
    "logreg = LogisticRegression(random_state=24)\n",
    "logreg.fit(X2_train2,y2_train2)\n",
    "\n",
    "y_train_pred = logreg.predict(X2_train2)\n",
    "y_pred = logreg.predict(X2_test2)\n",
    "eval_classification(logreg,y_train_pred,y_pred,y2_train2,y2_test2)"
   ]
  },
  {
   "cell_type": "markdown",
   "id": "321ad546-4e4b-428d-a910-501fed5f0ca3",
   "metadata": {},
   "source": [
    "### Decision Tree"
   ]
  },
  {
   "cell_type": "code",
   "execution_count": 76,
   "id": "090de0c4-eb45-4f9a-af49-8603ec03a7e7",
   "metadata": {},
   "outputs": [
    {
     "name": "stdout",
     "output_type": "stream",
     "text": [
      "Accuracy (Train Set): 1.00\n",
      "Accuracy (Test Set): 0.93\n",
      "Precision (Train Set): 1.00\n",
      "Precision (Test Set): 0.91\n",
      "Recall (Train Set): 1.00\n",
      "Recall (Test Set): 0.94\n",
      "F1-Score (Train Set): 1.00\n",
      "F1-Score (Test Set): 0.93\n",
      "AUC (Train Set): 1.00\n",
      "AUC (Test Set): 0.93\n"
     ]
    }
   ],
   "source": [
    "dtc = DecisionTreeClassifier(random_state=24)\n",
    "dtc.fit(X2_train2,y2_train2)\n",
    "\n",
    "y_train_pred = dtc.predict(X2_train2)\n",
    "y_pred = dtc.predict(X2_test2)\n",
    "eval_classification(dtc,y_train_pred,y_pred,y2_train2,y2_test2)"
   ]
  },
  {
   "cell_type": "markdown",
   "id": "908a141c-2180-4ce0-93ea-6a5dee2822c6",
   "metadata": {},
   "source": [
    "### Random Forest"
   ]
  },
  {
   "cell_type": "code",
   "execution_count": 77,
   "id": "9435146a-7e79-4235-96ab-092f4932374f",
   "metadata": {},
   "outputs": [
    {
     "name": "stdout",
     "output_type": "stream",
     "text": [
      "Accuracy (Train Set): 1.00\n",
      "Accuracy (Test Set): 0.95\n",
      "Precision (Train Set): 1.00\n",
      "Precision (Test Set): 0.95\n",
      "Recall (Train Set): 1.00\n",
      "Recall (Test Set): 0.95\n",
      "F1-Score (Train Set): 1.00\n",
      "F1-Score (Test Set): 0.95\n",
      "AUC (Train Set): 1.00\n",
      "AUC (Test Set): 0.95\n"
     ]
    }
   ],
   "source": [
    "rfc = RandomForestClassifier(random_state=24)\n",
    "rfc.fit(X2_train2,y2_train2)\n",
    "\n",
    "y_train_pred = rfc.predict(X2_train2)\n",
    "y_pred = rfc.predict(X2_test2)\n",
    "eval_classification(rfc,y_train_pred,y_pred,y2_train2,y2_test2)"
   ]
  },
  {
   "cell_type": "markdown",
   "id": "5c6cac4b-9a8b-415a-a4a4-e311d3ad49eb",
   "metadata": {},
   "source": [
    "#### AdaBoost"
   ]
  },
  {
   "cell_type": "code",
   "execution_count": 78,
   "id": "0290cebf-f73a-406d-a531-05a5a64f8895",
   "metadata": {},
   "outputs": [
    {
     "name": "stdout",
     "output_type": "stream",
     "text": [
      "Accuracy (Train Set): 0.99\n",
      "Accuracy (Test Set): 0.95\n",
      "Precision (Train Set): 1.00\n",
      "Precision (Test Set): 0.95\n",
      "Recall (Train Set): 0.99\n",
      "Recall (Test Set): 0.96\n",
      "F1-Score (Train Set): 0.99\n",
      "F1-Score (Test Set): 0.96\n",
      "AUC (Train Set): 0.99\n",
      "AUC (Test Set): 0.95\n"
     ]
    }
   ],
   "source": [
    "ab = AdaBoostClassifier(random_state=24)\n",
    "ab.fit(X2_train2,y2_train2)\n",
    "\n",
    "y_train_pred = ab.predict(X2_train2)\n",
    "y_pred = ab.predict(X2_test2)\n",
    "eval_classification(ab,y_train_pred,y_pred,y2_train2,y2_test2)"
   ]
  },
  {
   "cell_type": "markdown",
   "id": "ae3fd619-be36-4b60-86ac-13450a20c778",
   "metadata": {},
   "source": [
    "### Gradient Boosting"
   ]
  },
  {
   "cell_type": "code",
   "execution_count": 79,
   "id": "fd0a32e5-aae9-4b26-ada0-650d0a441297",
   "metadata": {},
   "outputs": [
    {
     "name": "stdout",
     "output_type": "stream",
     "text": [
      "Accuracy (Train Set): 1.00\n",
      "Accuracy (Test Set): 0.95\n",
      "Precision (Train Set): 1.00\n",
      "Precision (Test Set): 0.95\n",
      "Recall (Train Set): 1.00\n",
      "Recall (Test Set): 0.96\n",
      "F1-Score (Train Set): 1.00\n",
      "F1-Score (Test Set): 0.96\n",
      "AUC (Train Set): 1.00\n",
      "AUC (Test Set): 0.95\n"
     ]
    }
   ],
   "source": [
    "gbc = GradientBoostingClassifier(random_state=24)\n",
    "gbc.fit(X2_train2,y2_train2)\n",
    "\n",
    "y_train_pred = gbc.predict(X2_train2)\n",
    "y_pred = gbc.predict(X2_test2)\n",
    "eval_classification(gbc,y_train_pred,y_pred,y2_train2,y2_test2)"
   ]
  },
  {
   "cell_type": "code",
   "execution_count": 80,
   "id": "c7f39026-27a3-4dd6-8a2c-1fa4bc57578a",
   "metadata": {},
   "outputs": [
    {
     "name": "stdout",
     "output_type": "stream",
     "text": [
      "Accuracy (Train Set): 1.00\n",
      "Accuracy (Test Set): 0.94\n",
      "Precision (Train Set): 1.00\n",
      "Precision (Test Set): 0.95\n",
      "Recall (Train Set): 1.00\n",
      "Recall (Test Set): 0.94\n",
      "F1-Score (Train Set): 1.00\n",
      "F1-Score (Test Set): 0.94\n",
      "AUC (Train Set): 1.00\n",
      "AUC (Test Set): 0.94\n"
     ]
    }
   ],
   "source": [
    "from xgboost import XGBClassifier, XGBRegressor\n",
    "xg = XGBClassifier(random_state=24)\n",
    "xg.fit(X2_train2, y2_train2)\n",
    "\n",
    "y_train_pred = xg.predict(X2_train2)\n",
    "y_pred = xg.predict(X2_test2)\n",
    "eval_classification(xg,y_train_pred,y_pred,y2_train2,y2_test2)"
   ]
  },
  {
   "cell_type": "markdown",
   "id": "27d4610e-1e81-4771-b84d-9da9621825e5",
   "metadata": {},
   "source": [
    "### Selected Model"
   ]
  },
  {
   "cell_type": "markdown",
   "id": "01076edb-6784-406c-8f9c-67ef13a8f99d",
   "metadata": {},
   "source": [
    "Terlihat Model Logistic Regression dengan komposisi 70% data train: 30% data train mendapatkan hasil yang cukup baik tanpa tuning. Selanjutnya akan fokus modeling logistic regression dengan tuning"
   ]
  },
  {
   "cell_type": "code",
   "execution_count": 81,
   "id": "bb07628f-74a1-41f8-8862-d19413355ebf",
   "metadata": {},
   "outputs": [],
   "source": [
    "def show_feature_importance(model):\n",
    "    feat_importances = pd.Series(model.best_estimator_.feature_importances_, index=X.columns)\n",
    "    ax = feat_importances.nlargest(10).plot(kind='barh', figsize=(10, 8))\n",
    "    ax.invert_yaxis()\n",
    "    plt.xlabel('score')\n",
    "    plt.ylabel('feature')\n",
    "    plt.title('feature importance score')\n",
    "\n",
    "def show_best_hyperparameter(model, hyperparameters):\n",
    "    for key, value in hyperparameters.items() :\n",
    "        print('Best '+key+':', model.get_params()[key])"
   ]
  },
  {
   "cell_type": "code",
   "execution_count": 82,
   "id": "cf5c61b0-b725-44df-95b5-6b0459b0ea83",
   "metadata": {},
   "outputs": [
    {
     "name": "stdout",
     "output_type": "stream",
     "text": [
      "Accuracy (Train Set): 0.97\n",
      "Accuracy (Test Set): 0.97\n",
      "Precision (Train Set): 0.99\n",
      "Precision (Test Set): 0.97\n",
      "Recall (Train Set): 0.95\n",
      "Recall (Test Set): 0.96\n",
      "F1-Score (Train Set): 0.97\n",
      "F1-Score (Test Set): 0.97\n",
      "AUC (Train Set): 0.97\n",
      "AUC (Test Set): 0.97\n"
     ]
    }
   ],
   "source": [
    "from sklearn.model_selection import RandomizedSearchCV\n",
    "#List Hyperparameters yang akan diuji\n",
    "penalty = ['l2','l1','elasticnet']\n",
    "C = np.logspace(-4,4,20)\n",
    "hyperparameters = dict(penalty = penalty,C=C)\n",
    "\n",
    "logreg = LogisticRegression(random_state=24)\n",
    "logreg_tuned = GridSearchCV(logreg,hyperparameters, cv=5)\n",
    "best_model = logreg_tuned.fit(X2_train1,y2_train1)\n",
    "\n",
    "y_train_pred = logreg_tuned.predict(X2_train1)\n",
    "y_pred = logreg_tuned.predict(X2_test1)\n",
    "eval_classification(logreg_tuned,y_train_pred,y_pred,y2_train1,y2_test1)"
   ]
  },
  {
   "cell_type": "code",
   "execution_count": 83,
   "id": "8552e078-b36c-488f-8eaf-3f870405c27b",
   "metadata": {},
   "outputs": [
    {
     "data": {
      "image/png": "[encoded data removed]",
      "text/plain": [
       "<Figure size 576x432 with 2 Axes>"
      ]
     },
     "metadata": {
      "needs_background": "light"
     },
     "output_type": "display_data"
    }
   ],
   "source": [
    "cm = confusion_matrix(y2_test1,y_pred)\n",
    "target_names = ['No Clicked Ads','Yes Clicked Ads']\n",
    "\n",
    "plot_confusion_matrix(cm, target_names, title='Confusion matrix', cmap=None,normalize=False)"
   ]
  },
  {
   "cell_type": "code",
   "execution_count": 84,
   "id": "305b35d0-9220-4483-96d7-19373f0be732",
   "metadata": {},
   "outputs": [
    {
     "name": "stdout",
     "output_type": "stream",
     "text": [
      "Best penalty: l2\n",
      "Best C: 0.08858667904100823\n"
     ]
    }
   ],
   "source": [
    "show_best_hyperparameter(logreg_tuned.best_estimator_, hyperparameters)"
   ]
  }
 ],
 "metadata": {
  "kernelspec": {
   "display_name": "Python 3 (ipykernel)",
   "language": "python",
   "name": "python3"
  },
  "language_info": {
   "codemirror_mode": {
    "name": "ipython",
    "version": 3
   },
   "file_extension": ".py",
   "mimetype": "text/x-python",
   "name": "python",
   "nbconvert_exporter": "python",
   "pygments_lexer": "ipython3",
   "version": "3.9.7"
  }
 },
 "nbformat": 4,
 "nbformat_minor": 5
}
